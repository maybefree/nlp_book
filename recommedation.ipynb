{
 "cells": [
  {
   "cell_type": "markdown",
   "metadata": {},
   "source": [
    "---\n",
    "---\n",
    "# Recommendation\n",
    "Purpose is: given a book name, find top `n` similar books based on cosine similarity score. In real use cases, the input book could be the book a user has read, has rated highly or have added to the read later list.\n",
    "Books are recommended utilising the following information through keywords:"
   ]
  },
  {
   "cell_type": "code",
   "execution_count": 7,
   "metadata": {},
   "outputs": [],
   "source": [
    "import pandas as pd\n",
    "import numpy as np\n",
    "\n",
    "import re\n",
    "import string\n",
    "# BERT-Embeddings\n",
    "from keybert import KeyBERT\n",
    "# TF-IDF Vectorization\n",
    "from sklearn.feature_extraction.text import TfidfVectorizer\n",
    "import matplotlib.pyplot as plt\n",
    "#import altair as alt\n",
    "#alt.renderers.enable('mimetype')\n",
    "from sklearn.metrics.pairwise import cosine_similarity"
   ]
  },
  {
   "cell_type": "code",
   "execution_count": 13,
   "metadata": {},
   "outputs": [],
   "source": [
    "book_cosine_sim_tf = np.load('book_cosine_sim_tf.npy')\n",
    "book_cosine_sim_w2v = np.load('book_cosine_sim_w2v.npy')\n",
    "book_cosine_sim = (book_cosine_sim_w2v + book_cosine_sim_tf) / 2\n",
    "book_data2 = pd.read_csv('preprocess_book.csv')[:5000]\n",
    "\n",
    "books = pd.Series(book_data2['Name'])\n",
    "\n",
    "def recommend_books_similar_to(book_name, n=5, cosine_sim_mat=book_cosine_sim):\n",
    "    # get index of the imput book\n",
    "    input_idx = books[books == book_name].index[0]   \n",
    "    # Find top n similar books with decreasing order of similarity score\n",
    "    top_n_books_idx = list(pd.Series(cosine_sim_mat[input_idx]).sort_values(ascending = False).iloc[1:n+1].index)\n",
    "    # [1:6] to exclude 0 (index 0 is the input movie itself)\n",
    "    \n",
    "    books_list = list(books)\n",
    "    recommended_books = [books[i] for i in top_n_books_idx]\n",
    "        \n",
    "    return recommended_books\n",
    "\n",
    "\n",
    "def recommend_bookIDs_similar_to(book_name, n=5, cosine_sim_mat=book_cosine_sim):\n",
    "    # Get index of the input book\n",
    "    input_idx = books[books == book_name].index[0]   \n",
    "    \n",
    "    # Find top n similar books with decreasing order of similarity score\n",
    "    top_n_books_idx = list(pd.Series(cosine_sim_mat[input_idx]).sort_values(ascending=False).iloc[1:n+1].index)\n",
    "    \n",
    "    # Get the ID of the input book\n",
    "    input_book_id = book_data2['Id'].iloc[input_idx]\n",
    "    \n",
    "    # Create a list of recommended book IDs\n",
    "    recommended_ids = book_data2['Id'].iloc[top_n_books_idx].tolist()\n",
    "    \n",
    "    # Return the input book ID plus the list of recommended IDs\n",
    "    return input_book_id, recommended_ids"
   ]
  },
  {
   "cell_type": "code",
   "execution_count": 14,
   "metadata": {},
   "outputs": [
    {
     "data": {
      "text/plain": [
       "0                                              the prince\n",
       "1       sermons from duke chapel: voices from \"a great...\n",
       "2                                the idea of a university\n",
       "3       caring and curing: health and medicine in the ...\n",
       "4       the alamo remembered: tejano accounts and pers...\n",
       "                              ...                        \n",
       "4995    power without responsibility: how congress abu...\n",
       "4996    power without responsibility? ministerial staf...\n",
       "4997    pathophysiology: an essential text for the all...\n",
       "4998                                 max found two sticks\n",
       "4999                            superman: secret identity\n",
       "Name: Name, Length: 5000, dtype: object"
      ]
     },
     "execution_count": 14,
     "metadata": {},
     "output_type": "execute_result"
    }
   ],
   "source": [
    "books"
   ]
  },
  {
   "cell_type": "code",
   "execution_count": 15,
   "metadata": {},
   "outputs": [],
   "source": [
    "# # Recommendations with series information\n",
    "# print(\"\\033[1m{}\\033[0m\".format(\"Recommendation based on the read: The Eastland Disaster the prince\"))\n",
    "# display(recommend_books_similar_to(\"the prince\", 5))"
   ]
  },
  {
   "cell_type": "code",
   "execution_count": 16,
   "metadata": {},
   "outputs": [
    {
     "name": "stdout",
     "output_type": "stream",
     "text": [
      "\u001b[1mRecommendation based on the read: The Eastland Disaster the prince\u001b[0m\n"
     ]
    },
    {
     "data": {
      "text/plain": [
       "(1100003, [1103170, 1103797, 1110034, 1111496, 1112866])"
      ]
     },
     "metadata": {},
     "output_type": "display_data"
    }
   ],
   "source": [
    "# Recommendations with series information\n",
    "print(\"\\033[1m{}\\033[0m\".format(\"Recommendation based on the read: The Eastland Disaster the prince\"))\n",
    "display(recommend_bookIDs_similar_to(\"the prince\", 5))"
   ]
  },
  {
   "cell_type": "code",
   "execution_count": 17,
   "metadata": {},
   "outputs": [
    {
     "name": "stdout",
     "output_type": "stream",
     "text": [
      "Updated DataFrame with recommended IDs saved to data/keywords.csv\n"
     ]
    }
   ],
   "source": [
    "# Initialize a new column for recommended IDs\n",
    "book_data2['recommended_ids'] = None\n",
    "\n",
    "\n",
    "\n",
    "# Iterate over each row in model_data\n",
    "for index, row in book_data2.iterrows():\n",
    "    book_name = row['Name']\n",
    "    _, recommended_ids = recommend_bookIDs_similar_to(book_name)  # Get recommended IDs\n",
    "    book_data2.at[index, 'recommended_ids'] = recommended_ids  # Update the DataFrame\n",
    "\n",
    "# Optionally save the updated DataFrame to a new CSV file\n",
    "book_data2.to_csv(\"keywords_final.csv\", index=False)\n",
    "print(\"Updated DataFrame with recommended IDs saved to data/keywords.csv\")"
   ]
  },
  {
   "cell_type": "code",
   "execution_count": null,
   "metadata": {},
   "outputs": [],
   "source": []
  }
 ],
 "metadata": {
  "kernelspec": {
   "display_name": "control",
   "language": "python",
   "name": "python3"
  },
  "language_info": {
   "codemirror_mode": {
    "name": "ipython",
    "version": 3
   },
   "file_extension": ".py",
   "mimetype": "text/x-python",
   "name": "python",
   "nbconvert_exporter": "python",
   "pygments_lexer": "ipython3",
   "version": "3.8.5"
  }
 },
 "nbformat": 4,
 "nbformat_minor": 2
}
