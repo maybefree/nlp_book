{
 "cells": [
  {
   "cell_type": "markdown",
   "id": "02a29ca2-9793-43e0-b3e1-b2e8dddfb027",
   "metadata": {},
   "source": [
    "# Text Representation"
   ]
  },
  {
   "cell_type": "code",
   "execution_count": 50,
   "id": "e6eb75ae-dfc9-4ef1-a10e-58ba267cf60e",
   "metadata": {},
   "outputs": [],
   "source": [
    "import pandas as pd"
   ]
  },
  {
   "cell_type": "code",
   "execution_count": 51,
   "id": "b9fbbbb2-85a2-457e-b446-7ad38a0f30a6",
   "metadata": {},
   "outputs": [
    {
     "data": {
      "text/html": [
       "<div>\n",
       "<style scoped>\n",
       "    .dataframe tbody tr th:only-of-type {\n",
       "        vertical-align: middle;\n",
       "    }\n",
       "\n",
       "    .dataframe tbody tr th {\n",
       "        vertical-align: top;\n",
       "    }\n",
       "\n",
       "    .dataframe thead th {\n",
       "        text-align: right;\n",
       "    }\n",
       "</style>\n",
       "<table border=\"1\" class=\"dataframe\">\n",
       "  <thead>\n",
       "    <tr style=\"text-align: right;\">\n",
       "      <th></th>\n",
       "      <th>Id</th>\n",
       "      <th>Name</th>\n",
       "      <th>Authors</th>\n",
       "      <th>PublishYear</th>\n",
       "      <th>Publisher</th>\n",
       "      <th>Description</th>\n",
       "      <th>Rating</th>\n",
       "      <th>pagesNumber</th>\n",
       "      <th>keywords</th>\n",
       "      <th>features</th>\n",
       "    </tr>\n",
       "  </thead>\n",
       "  <tbody>\n",
       "    <tr>\n",
       "      <th>0</th>\n",
       "      <td>1100003</td>\n",
       "      <td>the prince</td>\n",
       "      <td>niccolò_machiavelli</td>\n",
       "      <td>1998</td>\n",
       "      <td>university_of_chicago_press</td>\n",
       "      <td>the most famous book on politics ever written ...</td>\n",
       "      <td>3.82</td>\n",
       "      <td>151</td>\n",
       "      <td>machiavellis machiavelli prince tyranny biblio...</td>\n",
       "      <td>niccolò_machiavelli 1998 university_of_chicago...</td>\n",
       "    </tr>\n",
       "    <tr>\n",
       "      <th>1</th>\n",
       "      <td>1100004</td>\n",
       "      <td>sermons from duke chapel: voices from \"a great...</td>\n",
       "      <td>william_h._willimon</td>\n",
       "      <td>2005</td>\n",
       "      <td>duke_university_press_books</td>\n",
       "      <td>many of america’s greatest protestant preacher...</td>\n",
       "      <td>4.29</td>\n",
       "      <td>384</td>\n",
       "      <td>sermons sermon preacher pulpit preachers</td>\n",
       "      <td>william_h._willimon 2005 duke_university_press...</td>\n",
       "    </tr>\n",
       "    <tr>\n",
       "      <th>2</th>\n",
       "      <td>1100009</td>\n",
       "      <td>the idea of a university</td>\n",
       "      <td>john_henry_newman</td>\n",
       "      <td>1996</td>\n",
       "      <td>yale_university_press</td>\n",
       "      <td>since its publication almost 150 years ago the...</td>\n",
       "      <td>4.12</td>\n",
       "      <td>400</td>\n",
       "      <td>scholars universities university academic newman</td>\n",
       "      <td>john_henry_newman 1996 yale_university_press 4...</td>\n",
       "    </tr>\n",
       "    <tr>\n",
       "      <th>3</th>\n",
       "      <td>1100010</td>\n",
       "      <td>caring and curing: health and medicine in the ...</td>\n",
       "      <td>ronald_l._numbers</td>\n",
       "      <td>1997</td>\n",
       "      <td>johns_hopkins_university_press</td>\n",
       "      <td>most religious traditions have a rich if large...</td>\n",
       "      <td>3.00</td>\n",
       "      <td>622</td>\n",
       "      <td>judeochristian medicine religious religion med...</td>\n",
       "      <td>ronald_l._numbers 1997 johns_hopkins_universit...</td>\n",
       "    </tr>\n",
       "    <tr>\n",
       "      <th>4</th>\n",
       "      <td>1100013</td>\n",
       "      <td>the alamo remembered: tejano accounts and pers...</td>\n",
       "      <td>timothy_matovina</td>\n",
       "      <td>1995</td>\n",
       "      <td>university_of_texas_press</td>\n",
       "      <td>as mexican soldiers fought the mostly angloame...</td>\n",
       "      <td>3.77</td>\n",
       "      <td>146</td>\n",
       "      <td>alamo tejanos 1836 tejano antonians</td>\n",
       "      <td>timothy_matovina 1995 university_of_texas_pres...</td>\n",
       "    </tr>\n",
       "  </tbody>\n",
       "</table>\n",
       "</div>"
      ],
      "text/plain": [
       "        Id                                               Name  \\\n",
       "0  1100003                                         the prince   \n",
       "1  1100004  sermons from duke chapel: voices from \"a great...   \n",
       "2  1100009                           the idea of a university   \n",
       "3  1100010  caring and curing: health and medicine in the ...   \n",
       "4  1100013  the alamo remembered: tejano accounts and pers...   \n",
       "\n",
       "               Authors  PublishYear                       Publisher  \\\n",
       "0  niccolò_machiavelli         1998     university_of_chicago_press   \n",
       "1  william_h._willimon         2005     duke_university_press_books   \n",
       "2    john_henry_newman         1996           yale_university_press   \n",
       "3    ronald_l._numbers         1997  johns_hopkins_university_press   \n",
       "4     timothy_matovina         1995       university_of_texas_press   \n",
       "\n",
       "                                         Description  Rating  pagesNumber  \\\n",
       "0  the most famous book on politics ever written ...    3.82          151   \n",
       "1  many of america’s greatest protestant preacher...    4.29          384   \n",
       "2  since its publication almost 150 years ago the...    4.12          400   \n",
       "3  most religious traditions have a rich if large...    3.00          622   \n",
       "4  as mexican soldiers fought the mostly angloame...    3.77          146   \n",
       "\n",
       "                                            keywords  \\\n",
       "0  machiavellis machiavelli prince tyranny biblio...   \n",
       "1           sermons sermon preacher pulpit preachers   \n",
       "2   scholars universities university academic newman   \n",
       "3  judeochristian medicine religious religion med...   \n",
       "4                alamo tejanos 1836 tejano antonians   \n",
       "\n",
       "                                            features  \n",
       "0  niccolò_machiavelli 1998 university_of_chicago...  \n",
       "1  william_h._willimon 2005 duke_university_press...  \n",
       "2  john_henry_newman 1996 yale_university_press 4...  \n",
       "3  ronald_l._numbers 1997 johns_hopkins_universit...  \n",
       "4  timothy_matovina 1995 university_of_texas_pres...  "
      ]
     },
     "execution_count": 51,
     "metadata": {},
     "output_type": "execute_result"
    }
   ],
   "source": [
    "# Fetch preprocessed data\n",
    "model_data = pd.read_csv(\"data/keywords.csv\")\n",
    "model_data.head()"
   ]
  },
  {
   "cell_type": "markdown",
   "id": "016bbc90-a579-4353-b0fd-cc6e5d0514a6",
   "metadata": {},
   "source": [
    "---\n",
    "### Vectorize the keywords summary using TF-IDF\n",
    "- Convert the keywords for each book into a numeric vector, based on the frequency of each word in the book's keywords\n",
    "- Keep token pattern such that tokens with underscore are not ignored.\n",
    "- Remove tokens occuring less than 3 times or occur in more than 60% of the documents (common tokens).\n",
    "- Remove english language stop words"
   ]
  },
  {
   "cell_type": "code",
   "execution_count": 52,
   "id": "956d3ed1-34ed-4ea6-912c-ac364476d034",
   "metadata": {},
   "outputs": [],
   "source": [
    "from sklearn.feature_extraction.text import TfidfVectorizer\n",
    "tfidf = TfidfVectorizer(analyzer = 'word',\n",
    "                        min_df=3,\n",
    "                        max_df = 0.6,\n",
    "                        stop_words=\"english\",\n",
    "                        encoding = 'utf-8', \n",
    "                        token_pattern=r\"(?u)\\S\\S+\")\n",
    "tfidf_encoding = tfidf.fit_transform(model_data[\"keywords\"])"
   ]
  },
  {
   "cell_type": "code",
   "execution_count": 53,
   "id": "1e7df3fe-83ef-43f8-8bb0-2c651db28758",
   "metadata": {},
   "outputs": [
    {
     "name": "stdout",
     "output_type": "stream",
     "text": [
      "['books' 'buddhism' 'budo' 'burke' 'church' 'coast' 'detective' 'duras'\n",
      " 'elephant' 'fiction' 'judo' 'literature' 'martial' 'mrs' 'novel'\n",
      " 'photographs' 'poems' 'poet' 'poetry' 'poets' 'poirot' 'published'\n",
      " 'recipes' 'revolutionary' 'routledge' 'tales' 'une' 'verse' 'woman']\n"
     ]
    }
   ],
   "source": [
    "# Preview first 100 words in the vocabulary\n",
    "print(tfidf.get_feature_names_out()[1:100])"
   ]
  },
  {
   "cell_type": "code",
   "execution_count": 54,
   "id": "2f24f72e-7086-4450-b2c4-6ec0ccf18faa",
   "metadata": {},
   "outputs": [
    {
     "data": {
      "text/plain": [
       "array([0., 0., 0., 0., 0., 0., 0., 0., 0., 0., 0., 0., 0., 0., 0., 0., 0.,\n",
       "       0., 0., 0., 0., 0., 0., 0., 0., 0., 0., 0., 0., 0.])"
      ]
     },
     "execution_count": 54,
     "metadata": {},
     "output_type": "execute_result"
    }
   ],
   "source": [
    "# Lets find representation of a new book's keywords in the existing vocabulary space\n",
    "tfidf.transform([\"looking for alaska by john green\"]).toarray()[0]"
   ]
  },
  {
   "cell_type": "code",
   "execution_count": 55,
   "id": "76f78c2e-c27d-49ed-9fa5-fb5310784a45",
   "metadata": {},
   "outputs": [
    {
     "data": {
      "text/plain": [
       "(200, 30)"
      ]
     },
     "execution_count": 55,
     "metadata": {},
     "output_type": "execute_result"
    }
   ],
   "source": [
    "tfidf_encoding.toarray().shape"
   ]
  },
  {
   "cell_type": "markdown",
   "id": "07464c92-ef64-475c-9e07-a536dcebd671",
   "metadata": {},
   "source": [
    "---\n",
    "### Visualize the TF-IDF word embeddings"
   ]
  },
  {
   "cell_type": "code",
   "execution_count": 56,
   "id": "567e617c-6cfb-427e-ab4a-238a8bdc0604",
   "metadata": {},
   "outputs": [],
   "source": [
    "tfidf_df = pd.DataFrame(tfidf_encoding.toarray(), index=model_data[\"Name\"], columns=tfidf.get_feature_names_out())"
   ]
  },
  {
   "cell_type": "code",
   "execution_count": 57,
   "id": "e70b07ab-6104-4e6e-b0ee-f1da900faecd",
   "metadata": {},
   "outputs": [
    {
     "data": {
      "text/html": [
       "<div>\n",
       "<style scoped>\n",
       "    .dataframe tbody tr th:only-of-type {\n",
       "        vertical-align: middle;\n",
       "    }\n",
       "\n",
       "    .dataframe tbody tr th {\n",
       "        vertical-align: top;\n",
       "    }\n",
       "\n",
       "    .dataframe thead th {\n",
       "        text-align: right;\n",
       "    }\n",
       "</style>\n",
       "<table border=\"1\" class=\"dataframe\">\n",
       "  <thead>\n",
       "    <tr style=\"text-align: right;\">\n",
       "      <th></th>\n",
       "      <th>book</th>\n",
       "      <th>books</th>\n",
       "      <th>buddhism</th>\n",
       "      <th>budo</th>\n",
       "      <th>burke</th>\n",
       "      <th>church</th>\n",
       "      <th>coast</th>\n",
       "      <th>detective</th>\n",
       "      <th>duras</th>\n",
       "      <th>elephant</th>\n",
       "      <th>...</th>\n",
       "      <th>poets</th>\n",
       "      <th>poirot</th>\n",
       "      <th>published</th>\n",
       "      <th>recipes</th>\n",
       "      <th>revolutionary</th>\n",
       "      <th>routledge</th>\n",
       "      <th>tales</th>\n",
       "      <th>une</th>\n",
       "      <th>verse</th>\n",
       "      <th>woman</th>\n",
       "    </tr>\n",
       "    <tr>\n",
       "      <th>Name</th>\n",
       "      <th></th>\n",
       "      <th></th>\n",
       "      <th></th>\n",
       "      <th></th>\n",
       "      <th></th>\n",
       "      <th></th>\n",
       "      <th></th>\n",
       "      <th></th>\n",
       "      <th></th>\n",
       "      <th></th>\n",
       "      <th></th>\n",
       "      <th></th>\n",
       "      <th></th>\n",
       "      <th></th>\n",
       "      <th></th>\n",
       "      <th></th>\n",
       "      <th></th>\n",
       "      <th></th>\n",
       "      <th></th>\n",
       "      <th></th>\n",
       "      <th></th>\n",
       "    </tr>\n",
       "  </thead>\n",
       "  <tbody>\n",
       "    <tr>\n",
       "      <th>classical budo</th>\n",
       "      <td>0.0</td>\n",
       "      <td>0.000000</td>\n",
       "      <td>0.5</td>\n",
       "      <td>0.50000</td>\n",
       "      <td>0.0</td>\n",
       "      <td>0.0</td>\n",
       "      <td>0.0</td>\n",
       "      <td>0.0</td>\n",
       "      <td>0.0</td>\n",
       "      <td>0.0</td>\n",
       "      <td>...</td>\n",
       "      <td>0.000000</td>\n",
       "      <td>0.0</td>\n",
       "      <td>0.0</td>\n",
       "      <td>0.0</td>\n",
       "      <td>0.0</td>\n",
       "      <td>0.0</td>\n",
       "      <td>0.0</td>\n",
       "      <td>0.0</td>\n",
       "      <td>0.0</td>\n",
       "      <td>0.0</td>\n",
       "    </tr>\n",
       "    <tr>\n",
       "      <th>selected poems and translations: 1969-1991</th>\n",
       "      <td>0.0</td>\n",
       "      <td>0.000000</td>\n",
       "      <td>0.0</td>\n",
       "      <td>0.00000</td>\n",
       "      <td>0.0</td>\n",
       "      <td>0.0</td>\n",
       "      <td>0.0</td>\n",
       "      <td>0.0</td>\n",
       "      <td>0.0</td>\n",
       "      <td>0.0</td>\n",
       "      <td>...</td>\n",
       "      <td>0.491069</td>\n",
       "      <td>0.0</td>\n",
       "      <td>0.0</td>\n",
       "      <td>0.0</td>\n",
       "      <td>0.0</td>\n",
       "      <td>0.0</td>\n",
       "      <td>0.0</td>\n",
       "      <td>0.0</td>\n",
       "      <td>0.0</td>\n",
       "      <td>0.0</td>\n",
       "    </tr>\n",
       "    <tr>\n",
       "      <th>budo mind and body: training secrets of the japanese martial arts</th>\n",
       "      <td>0.0</td>\n",
       "      <td>0.000000</td>\n",
       "      <td>0.0</td>\n",
       "      <td>0.57735</td>\n",
       "      <td>0.0</td>\n",
       "      <td>0.0</td>\n",
       "      <td>0.0</td>\n",
       "      <td>0.0</td>\n",
       "      <td>0.0</td>\n",
       "      <td>0.0</td>\n",
       "      <td>...</td>\n",
       "      <td>0.000000</td>\n",
       "      <td>0.0</td>\n",
       "      <td>0.0</td>\n",
       "      <td>0.0</td>\n",
       "      <td>0.0</td>\n",
       "      <td>0.0</td>\n",
       "      <td>0.0</td>\n",
       "      <td>0.0</td>\n",
       "      <td>0.0</td>\n",
       "      <td>0.0</td>\n",
       "    </tr>\n",
       "    <tr>\n",
       "      <th>budo secrets: teachings of the martial arts masters</th>\n",
       "      <td>0.0</td>\n",
       "      <td>0.000000</td>\n",
       "      <td>0.0</td>\n",
       "      <td>0.57735</td>\n",
       "      <td>0.0</td>\n",
       "      <td>0.0</td>\n",
       "      <td>0.0</td>\n",
       "      <td>0.0</td>\n",
       "      <td>0.0</td>\n",
       "      <td>0.0</td>\n",
       "      <td>...</td>\n",
       "      <td>0.000000</td>\n",
       "      <td>0.0</td>\n",
       "      <td>0.0</td>\n",
       "      <td>0.0</td>\n",
       "      <td>0.0</td>\n",
       "      <td>0.0</td>\n",
       "      <td>0.0</td>\n",
       "      <td>0.0</td>\n",
       "      <td>0.0</td>\n",
       "      <td>0.0</td>\n",
       "    </tr>\n",
       "    <tr>\n",
       "      <th>the language of recovery: a blue mountain arts collection (\"language of ... \" series)</th>\n",
       "      <td>0.0</td>\n",
       "      <td>0.560084</td>\n",
       "      <td>0.0</td>\n",
       "      <td>0.00000</td>\n",
       "      <td>0.0</td>\n",
       "      <td>0.0</td>\n",
       "      <td>0.0</td>\n",
       "      <td>0.0</td>\n",
       "      <td>0.0</td>\n",
       "      <td>0.0</td>\n",
       "      <td>...</td>\n",
       "      <td>0.560084</td>\n",
       "      <td>0.0</td>\n",
       "      <td>0.0</td>\n",
       "      <td>0.0</td>\n",
       "      <td>0.0</td>\n",
       "      <td>0.0</td>\n",
       "      <td>0.0</td>\n",
       "      <td>0.0</td>\n",
       "      <td>0.0</td>\n",
       "      <td>0.0</td>\n",
       "    </tr>\n",
       "  </tbody>\n",
       "</table>\n",
       "<p>5 rows × 30 columns</p>\n",
       "</div>"
      ],
      "text/plain": [
       "                                                    book     books  buddhism  \\\n",
       "Name                                                                           \n",
       "classical budo                                       0.0  0.000000       0.5   \n",
       "selected poems and translations: 1969-1991           0.0  0.000000       0.0   \n",
       "budo mind and body: training secrets of the jap...   0.0  0.000000       0.0   \n",
       "budo secrets: teachings of the martial arts mas...   0.0  0.000000       0.0   \n",
       "the language of recovery: a blue mountain arts ...   0.0  0.560084       0.0   \n",
       "\n",
       "                                                       budo  burke  church  \\\n",
       "Name                                                                         \n",
       "classical budo                                      0.50000    0.0     0.0   \n",
       "selected poems and translations: 1969-1991          0.00000    0.0     0.0   \n",
       "budo mind and body: training secrets of the jap...  0.57735    0.0     0.0   \n",
       "budo secrets: teachings of the martial arts mas...  0.57735    0.0     0.0   \n",
       "the language of recovery: a blue mountain arts ...  0.00000    0.0     0.0   \n",
       "\n",
       "                                                    coast  detective  duras  \\\n",
       "Name                                                                          \n",
       "classical budo                                        0.0        0.0    0.0   \n",
       "selected poems and translations: 1969-1991            0.0        0.0    0.0   \n",
       "budo mind and body: training secrets of the jap...    0.0        0.0    0.0   \n",
       "budo secrets: teachings of the martial arts mas...    0.0        0.0    0.0   \n",
       "the language of recovery: a blue mountain arts ...    0.0        0.0    0.0   \n",
       "\n",
       "                                                    elephant  ...     poets  \\\n",
       "Name                                                          ...             \n",
       "classical budo                                           0.0  ...  0.000000   \n",
       "selected poems and translations: 1969-1991               0.0  ...  0.491069   \n",
       "budo mind and body: training secrets of the jap...       0.0  ...  0.000000   \n",
       "budo secrets: teachings of the martial arts mas...       0.0  ...  0.000000   \n",
       "the language of recovery: a blue mountain arts ...       0.0  ...  0.560084   \n",
       "\n",
       "                                                    poirot  published  \\\n",
       "Name                                                                    \n",
       "classical budo                                         0.0        0.0   \n",
       "selected poems and translations: 1969-1991             0.0        0.0   \n",
       "budo mind and body: training secrets of the jap...     0.0        0.0   \n",
       "budo secrets: teachings of the martial arts mas...     0.0        0.0   \n",
       "the language of recovery: a blue mountain arts ...     0.0        0.0   \n",
       "\n",
       "                                                    recipes  revolutionary  \\\n",
       "Name                                                                         \n",
       "classical budo                                          0.0            0.0   \n",
       "selected poems and translations: 1969-1991              0.0            0.0   \n",
       "budo mind and body: training secrets of the jap...      0.0            0.0   \n",
       "budo secrets: teachings of the martial arts mas...      0.0            0.0   \n",
       "the language of recovery: a blue mountain arts ...      0.0            0.0   \n",
       "\n",
       "                                                    routledge  tales  une  \\\n",
       "Name                                                                        \n",
       "classical budo                                            0.0    0.0  0.0   \n",
       "selected poems and translations: 1969-1991                0.0    0.0  0.0   \n",
       "budo mind and body: training secrets of the jap...        0.0    0.0  0.0   \n",
       "budo secrets: teachings of the martial arts mas...        0.0    0.0  0.0   \n",
       "the language of recovery: a blue mountain arts ...        0.0    0.0  0.0   \n",
       "\n",
       "                                                    verse  woman  \n",
       "Name                                                              \n",
       "classical budo                                        0.0    0.0  \n",
       "selected poems and translations: 1969-1991            0.0    0.0  \n",
       "budo mind and body: training secrets of the jap...    0.0    0.0  \n",
       "budo secrets: teachings of the martial arts mas...    0.0    0.0  \n",
       "the language of recovery: a blue mountain arts ...    0.0    0.0  \n",
       "\n",
       "[5 rows x 30 columns]"
      ]
     },
     "execution_count": 57,
     "metadata": {},
     "output_type": "execute_result"
    }
   ],
   "source": [
    "# Find top 50 books with maximum tf-idf total score\n",
    "tfidf_df[\"total\"]= tfidf_df.sum(axis=1)\n",
    "tfidf_df = tfidf_df.sort_values(\"total\", ascending=False)\n",
    "del tfidf_df[\"total\"]\n",
    "tfidf_df.head()\n"
   ]
  },
  {
   "cell_type": "code",
   "execution_count": 58,
   "id": "3d7b6d01",
   "metadata": {},
   "outputs": [
    {
     "data": {
      "text/plain": [
       "200"
      ]
     },
     "execution_count": 58,
     "metadata": {},
     "output_type": "execute_result"
    }
   ],
   "source": [
    "len(tfidf_df)"
   ]
  },
  {
   "cell_type": "code",
   "execution_count": 59,
   "id": "f46ba6df",
   "metadata": {},
   "outputs": [
    {
     "data": {
      "text/html": [
       "<div>\n",
       "<style scoped>\n",
       "    .dataframe tbody tr th:only-of-type {\n",
       "        vertical-align: middle;\n",
       "    }\n",
       "\n",
       "    .dataframe tbody tr th {\n",
       "        vertical-align: top;\n",
       "    }\n",
       "\n",
       "    .dataframe thead th {\n",
       "        text-align: right;\n",
       "    }\n",
       "</style>\n",
       "<table border=\"1\" class=\"dataframe\">\n",
       "  <thead>\n",
       "    <tr style=\"text-align: right;\">\n",
       "      <th></th>\n",
       "      <th>book</th>\n",
       "      <th>term</th>\n",
       "      <th>tfidf</th>\n",
       "    </tr>\n",
       "  </thead>\n",
       "  <tbody>\n",
       "    <tr>\n",
       "      <th>0</th>\n",
       "      <td>classical budo</td>\n",
       "      <td>book</td>\n",
       "      <td>0.0</td>\n",
       "    </tr>\n",
       "    <tr>\n",
       "      <th>1</th>\n",
       "      <td>classical budo</td>\n",
       "      <td>books</td>\n",
       "      <td>0.0</td>\n",
       "    </tr>\n",
       "    <tr>\n",
       "      <th>2</th>\n",
       "      <td>classical budo</td>\n",
       "      <td>buddhism</td>\n",
       "      <td>0.5</td>\n",
       "    </tr>\n",
       "    <tr>\n",
       "      <th>3</th>\n",
       "      <td>classical budo</td>\n",
       "      <td>budo</td>\n",
       "      <td>0.5</td>\n",
       "    </tr>\n",
       "    <tr>\n",
       "      <th>4</th>\n",
       "      <td>classical budo</td>\n",
       "      <td>burke</td>\n",
       "      <td>0.0</td>\n",
       "    </tr>\n",
       "    <tr>\n",
       "      <th>...</th>\n",
       "      <td>...</td>\n",
       "      <td>...</td>\n",
       "      <td>...</td>\n",
       "    </tr>\n",
       "    <tr>\n",
       "      <th>1495</th>\n",
       "      <td>the wonderful thing about hiccups</td>\n",
       "      <td>routledge</td>\n",
       "      <td>0.0</td>\n",
       "    </tr>\n",
       "    <tr>\n",
       "      <th>1496</th>\n",
       "      <td>the wonderful thing about hiccups</td>\n",
       "      <td>tales</td>\n",
       "      <td>0.0</td>\n",
       "    </tr>\n",
       "    <tr>\n",
       "      <th>1497</th>\n",
       "      <td>the wonderful thing about hiccups</td>\n",
       "      <td>une</td>\n",
       "      <td>0.0</td>\n",
       "    </tr>\n",
       "    <tr>\n",
       "      <th>1498</th>\n",
       "      <td>the wonderful thing about hiccups</td>\n",
       "      <td>verse</td>\n",
       "      <td>0.0</td>\n",
       "    </tr>\n",
       "    <tr>\n",
       "      <th>1499</th>\n",
       "      <td>the wonderful thing about hiccups</td>\n",
       "      <td>woman</td>\n",
       "      <td>0.0</td>\n",
       "    </tr>\n",
       "  </tbody>\n",
       "</table>\n",
       "<p>1500 rows × 3 columns</p>\n",
       "</div>"
      ],
      "text/plain": [
       "                                   book       term  tfidf\n",
       "0                        classical budo       book    0.0\n",
       "1                        classical budo      books    0.0\n",
       "2                        classical budo   buddhism    0.5\n",
       "3                        classical budo       budo    0.5\n",
       "4                        classical budo      burke    0.0\n",
       "...                                 ...        ...    ...\n",
       "1495  the wonderful thing about hiccups  routledge    0.0\n",
       "1496  the wonderful thing about hiccups      tales    0.0\n",
       "1497  the wonderful thing about hiccups        une    0.0\n",
       "1498  the wonderful thing about hiccups      verse    0.0\n",
       "1499  the wonderful thing about hiccups      woman    0.0\n",
       "\n",
       "[1500 rows x 3 columns]"
      ]
     },
     "execution_count": 59,
     "metadata": {},
     "output_type": "execute_result"
    }
   ],
   "source": [
    "# Leave first few words containing years and select top 50 books\n",
    "tfidf_df_preview = tfidf_df.iloc[:50].copy()\n",
    "tfidf_df_preview = tfidf_df_preview.stack().reset_index()\n",
    "tfidf_df_preview = tfidf_df_preview.rename(columns={0:'tfidf', 'Name': 'book','level_1': 'term'})\n",
    "\n",
    "tfidf_df_preview"
   ]
  },
  {
   "cell_type": "code",
   "execution_count": 60,
   "id": "a745ecc2-de07-4066-985e-f550ea90e192",
   "metadata": {},
   "outputs": [
    {
     "data": {
      "text/html": [
       "<div>\n",
       "<style scoped>\n",
       "    .dataframe tbody tr th:only-of-type {\n",
       "        vertical-align: middle;\n",
       "    }\n",
       "\n",
       "    .dataframe tbody tr th {\n",
       "        vertical-align: top;\n",
       "    }\n",
       "\n",
       "    .dataframe thead th {\n",
       "        text-align: right;\n",
       "    }\n",
       "</style>\n",
       "<table border=\"1\" class=\"dataframe\">\n",
       "  <thead>\n",
       "    <tr style=\"text-align: right;\">\n",
       "      <th></th>\n",
       "      <th>book</th>\n",
       "      <th>term</th>\n",
       "      <th>tfidf</th>\n",
       "    </tr>\n",
       "  </thead>\n",
       "  <tbody>\n",
       "    <tr>\n",
       "      <th>833</th>\n",
       "      <td>a bowl of red</td>\n",
       "      <td>recipes</td>\n",
       "      <td>1.0</td>\n",
       "    </tr>\n",
       "    <tr>\n",
       "      <th>810</th>\n",
       "      <td>a bowl of red</td>\n",
       "      <td>book</td>\n",
       "      <td>0.0</td>\n",
       "    </tr>\n",
       "    <tr>\n",
       "      <th>811</th>\n",
       "      <td>a bowl of red</td>\n",
       "      <td>books</td>\n",
       "      <td>0.0</td>\n",
       "    </tr>\n",
       "    <tr>\n",
       "      <th>812</th>\n",
       "      <td>a bowl of red</td>\n",
       "      <td>buddhism</td>\n",
       "      <td>0.0</td>\n",
       "    </tr>\n",
       "    <tr>\n",
       "      <th>813</th>\n",
       "      <td>a bowl of red</td>\n",
       "      <td>budo</td>\n",
       "      <td>0.0</td>\n",
       "    </tr>\n",
       "    <tr>\n",
       "      <th>...</th>\n",
       "      <td>...</td>\n",
       "      <td>...</td>\n",
       "      <td>...</td>\n",
       "    </tr>\n",
       "    <tr>\n",
       "      <th>1475</th>\n",
       "      <td>the wonderful thing about hiccups</td>\n",
       "      <td>church</td>\n",
       "      <td>0.0</td>\n",
       "    </tr>\n",
       "    <tr>\n",
       "      <th>1476</th>\n",
       "      <td>the wonderful thing about hiccups</td>\n",
       "      <td>coast</td>\n",
       "      <td>0.0</td>\n",
       "    </tr>\n",
       "    <tr>\n",
       "      <th>1477</th>\n",
       "      <td>the wonderful thing about hiccups</td>\n",
       "      <td>detective</td>\n",
       "      <td>0.0</td>\n",
       "    </tr>\n",
       "    <tr>\n",
       "      <th>1478</th>\n",
       "      <td>the wonderful thing about hiccups</td>\n",
       "      <td>duras</td>\n",
       "      <td>0.0</td>\n",
       "    </tr>\n",
       "    <tr>\n",
       "      <th>1479</th>\n",
       "      <td>the wonderful thing about hiccups</td>\n",
       "      <td>elephant</td>\n",
       "      <td>0.0</td>\n",
       "    </tr>\n",
       "  </tbody>\n",
       "</table>\n",
       "<p>500 rows × 3 columns</p>\n",
       "</div>"
      ],
      "text/plain": [
       "                                   book       term  tfidf\n",
       "833                       a bowl of red    recipes    1.0\n",
       "810                       a bowl of red       book    0.0\n",
       "811                       a bowl of red      books    0.0\n",
       "812                       a bowl of red   buddhism    0.0\n",
       "813                       a bowl of red       budo    0.0\n",
       "...                                 ...        ...    ...\n",
       "1475  the wonderful thing about hiccups     church    0.0\n",
       "1476  the wonderful thing about hiccups      coast    0.0\n",
       "1477  the wonderful thing about hiccups  detective    0.0\n",
       "1478  the wonderful thing about hiccups      duras    0.0\n",
       "1479  the wonderful thing about hiccups   elephant    0.0\n",
       "\n",
       "[500 rows x 3 columns]"
      ]
     },
     "metadata": {},
     "output_type": "display_data"
    }
   ],
   "source": [
    "\n",
    "tfidf_df_preview = tfidf_df_preview.sort_values(by=['book','tfidf'], ascending=[True,False]).groupby(['book']).head(10)\n",
    "display(tfidf_df_preview)"
   ]
  },
  {
   "cell_type": "code",
   "execution_count": 61,
   "id": "b2dfaa38-ed26-49d2-af0a-69faae9c2413",
   "metadata": {},
   "outputs": [
    {
     "data": {
      "text/html": [
       "<div>\n",
       "<style scoped>\n",
       "    .dataframe tbody tr th:only-of-type {\n",
       "        vertical-align: middle;\n",
       "    }\n",
       "\n",
       "    .dataframe tbody tr th {\n",
       "        vertical-align: top;\n",
       "    }\n",
       "\n",
       "    .dataframe thead th {\n",
       "        text-align: right;\n",
       "    }\n",
       "</style>\n",
       "<table border=\"1\" class=\"dataframe\">\n",
       "  <thead>\n",
       "    <tr style=\"text-align: right;\">\n",
       "      <th></th>\n",
       "      <th>book</th>\n",
       "      <th>term</th>\n",
       "      <th>tfidf</th>\n",
       "    </tr>\n",
       "  </thead>\n",
       "  <tbody>\n",
       "    <tr>\n",
       "      <th>815</th>\n",
       "      <td>a bowl of red</td>\n",
       "      <td>church</td>\n",
       "      <td>0.0</td>\n",
       "    </tr>\n",
       "    <tr>\n",
       "      <th>1385</th>\n",
       "      <td>a vindication of natural society</td>\n",
       "      <td>church</td>\n",
       "      <td>0.0</td>\n",
       "    </tr>\n",
       "    <tr>\n",
       "      <th>185</th>\n",
       "      <td>a woman of no importance</td>\n",
       "      <td>church</td>\n",
       "      <td>0.0</td>\n",
       "    </tr>\n",
       "    <tr>\n",
       "      <th>1325</th>\n",
       "      <td>amelia earhart: aviation pioneer</td>\n",
       "      <td>church</td>\n",
       "      <td>0.0</td>\n",
       "    </tr>\n",
       "    <tr>\n",
       "      <th>1175</th>\n",
       "      <td>beyond the rainbow: the land where imaginary a...</td>\n",
       "      <td>church</td>\n",
       "      <td>0.0</td>\n",
       "    </tr>\n",
       "    <tr>\n",
       "      <th>65</th>\n",
       "      <td>budo mind and body: training secrets of the ja...</td>\n",
       "      <td>church</td>\n",
       "      <td>0.0</td>\n",
       "    </tr>\n",
       "    <tr>\n",
       "      <th>95</th>\n",
       "      <td>budo secrets: teachings of the martial arts ma...</td>\n",
       "      <td>church</td>\n",
       "      <td>0.0</td>\n",
       "    </tr>\n",
       "    <tr>\n",
       "      <th>575</th>\n",
       "      <td>carolina ghost woods: poems</td>\n",
       "      <td>church</td>\n",
       "      <td>0.0</td>\n",
       "    </tr>\n",
       "    <tr>\n",
       "      <th>1085</th>\n",
       "      <td>celtic heritage: ancient tradition in ireland ...</td>\n",
       "      <td>church</td>\n",
       "      <td>0.0</td>\n",
       "    </tr>\n",
       "    <tr>\n",
       "      <th>665</th>\n",
       "      <td>changing light at sandover, the: a poem</td>\n",
       "      <td>church</td>\n",
       "      <td>0.0</td>\n",
       "    </tr>\n",
       "    <tr>\n",
       "      <th>635</th>\n",
       "      <td>christ the lord</td>\n",
       "      <td>church</td>\n",
       "      <td>0.0</td>\n",
       "    </tr>\n",
       "    <tr>\n",
       "      <th>5</th>\n",
       "      <td>classical budo</td>\n",
       "      <td>church</td>\n",
       "      <td>0.0</td>\n",
       "    </tr>\n",
       "    <tr>\n",
       "      <th>545</th>\n",
       "      <td>cliffsnotes on rand's atlas shrugged</td>\n",
       "      <td>church</td>\n",
       "      <td>0.0</td>\n",
       "    </tr>\n",
       "    <tr>\n",
       "      <th>1025</th>\n",
       "      <td>coast</td>\n",
       "      <td>church</td>\n",
       "      <td>0.0</td>\n",
       "    </tr>\n",
       "    <tr>\n",
       "      <th>1055</th>\n",
       "      <td>coast: from the air</td>\n",
       "      <td>church</td>\n",
       "      <td>0.0</td>\n",
       "    </tr>\n",
       "    <tr>\n",
       "      <th>965</th>\n",
       "      <td>dangerous friend: the teacher-student relation...</td>\n",
       "      <td>church</td>\n",
       "      <td>0.0</td>\n",
       "    </tr>\n",
       "    <tr>\n",
       "      <th>1265</th>\n",
       "      <td>divine comedy, inferno 2 vol. set: text and co...</td>\n",
       "      <td>church</td>\n",
       "      <td>0.0</td>\n",
       "    </tr>\n",
       "    <tr>\n",
       "      <th>1445</th>\n",
       "      <td>double bill: forty years on &amp; a woman of no im...</td>\n",
       "      <td>church</td>\n",
       "      <td>0.0</td>\n",
       "    </tr>\n",
       "    <tr>\n",
       "      <th>725</th>\n",
       "      <td>filth</td>\n",
       "      <td>church</td>\n",
       "      <td>0.0</td>\n",
       "    </tr>\n",
       "    <tr>\n",
       "      <th>215</th>\n",
       "      <td>further reflections on the revolution in france</td>\n",
       "      <td>church</td>\n",
       "      <td>0.0</td>\n",
       "    </tr>\n",
       "    <tr>\n",
       "      <th>275</th>\n",
       "      <td>haiku journey, basho's narrow road to a far pr...</td>\n",
       "      <td>church</td>\n",
       "      <td>0.0</td>\n",
       "    </tr>\n",
       "    <tr>\n",
       "      <th>1145</th>\n",
       "      <td>hawkes harbor</td>\n",
       "      <td>church</td>\n",
       "      <td>0.0</td>\n",
       "    </tr>\n",
       "    <tr>\n",
       "      <th>845</th>\n",
       "      <td>jacques tati, de françois le facteur à monsieu...</td>\n",
       "      <td>church</td>\n",
       "      <td>0.0</td>\n",
       "    </tr>\n",
       "    <tr>\n",
       "      <th>155</th>\n",
       "      <td>james merrill and w.h. auden: homosexuality an...</td>\n",
       "      <td>church</td>\n",
       "      <td>0.0</td>\n",
       "    </tr>\n",
       "    <tr>\n",
       "      <th>335</th>\n",
       "      <td>jane austen</td>\n",
       "      <td>church</td>\n",
       "      <td>0.0</td>\n",
       "    </tr>\n",
       "    <tr>\n",
       "      <th>935</th>\n",
       "      <td>keraban the inflexible: adventures in the euxi...</td>\n",
       "      <td>church</td>\n",
       "      <td>0.0</td>\n",
       "    </tr>\n",
       "    <tr>\n",
       "      <th>485</th>\n",
       "      <td>lost star: the story of amelia earheart</td>\n",
       "      <td>church</td>\n",
       "      <td>0.0</td>\n",
       "    </tr>\n",
       "    <tr>\n",
       "      <th>425</th>\n",
       "      <td>madonna: a biography</td>\n",
       "      <td>church</td>\n",
       "      <td>0.0</td>\n",
       "    </tr>\n",
       "    <tr>\n",
       "      <th>1355</th>\n",
       "      <td>majestic</td>\n",
       "      <td>church</td>\n",
       "      <td>0.0</td>\n",
       "    </tr>\n",
       "    <tr>\n",
       "      <th>1115</th>\n",
       "      <td>marguerite duras</td>\n",
       "      <td>church</td>\n",
       "      <td>0.0</td>\n",
       "    </tr>\n",
       "    <tr>\n",
       "      <th>365</th>\n",
       "      <td>mrs. mcginty's dead</td>\n",
       "      <td>church</td>\n",
       "      <td>0.0</td>\n",
       "    </tr>\n",
       "    <tr>\n",
       "      <th>1295</th>\n",
       "      <td>once upon an elephant</td>\n",
       "      <td>church</td>\n",
       "      <td>0.0</td>\n",
       "    </tr>\n",
       "    <tr>\n",
       "      <th>605</th>\n",
       "      <td>out of egypt (christ the lord, #1)</td>\n",
       "      <td>church</td>\n",
       "      <td>0.0</td>\n",
       "    </tr>\n",
       "    <tr>\n",
       "      <th>785</th>\n",
       "      <td>postcolonial duras: cultural memory in postwar...</td>\n",
       "      <td>church</td>\n",
       "      <td>0.0</td>\n",
       "    </tr>\n",
       "    <tr>\n",
       "      <th>695</th>\n",
       "      <td>puttering about in a small land</td>\n",
       "      <td>church</td>\n",
       "      <td>0.0</td>\n",
       "    </tr>\n",
       "    <tr>\n",
       "      <th>1235</th>\n",
       "      <td>reluctant dissenter: a catholic bishop's journ...</td>\n",
       "      <td>church</td>\n",
       "      <td>1.0</td>\n",
       "    </tr>\n",
       "    <tr>\n",
       "      <th>455</th>\n",
       "      <td>saffo &amp; excerpts from furio cammila</td>\n",
       "      <td>church</td>\n",
       "      <td>0.0</td>\n",
       "    </tr>\n",
       "    <tr>\n",
       "      <th>305</th>\n",
       "      <td>select works of edmund burke: reflections on t...</td>\n",
       "      <td>church</td>\n",
       "      <td>0.0</td>\n",
       "    </tr>\n",
       "    <tr>\n",
       "      <th>35</th>\n",
       "      <td>selected poems and translations: 1969-1991</td>\n",
       "      <td>church</td>\n",
       "      <td>0.0</td>\n",
       "    </tr>\n",
       "    <tr>\n",
       "      <th>875</th>\n",
       "      <td>silent seduction</td>\n",
       "      <td>church</td>\n",
       "      <td>0.0</td>\n",
       "    </tr>\n",
       "    <tr>\n",
       "      <th>395</th>\n",
       "      <td>spirit of budo</td>\n",
       "      <td>church</td>\n",
       "      <td>0.0</td>\n",
       "    </tr>\n",
       "    <tr>\n",
       "      <th>1205</th>\n",
       "      <td>stepping stones of the steward: a faith journe...</td>\n",
       "      <td>church</td>\n",
       "      <td>1.0</td>\n",
       "    </tr>\n",
       "    <tr>\n",
       "      <th>245</th>\n",
       "      <td>the earth strikes back</td>\n",
       "      <td>church</td>\n",
       "      <td>0.0</td>\n",
       "    </tr>\n",
       "    <tr>\n",
       "      <th>755</th>\n",
       "      <td>the easter parade</td>\n",
       "      <td>church</td>\n",
       "      <td>0.0</td>\n",
       "    </tr>\n",
       "    <tr>\n",
       "      <th>905</th>\n",
       "      <td>the erotics of passage: pleasure, politics, an...</td>\n",
       "      <td>church</td>\n",
       "      <td>0.0</td>\n",
       "    </tr>\n",
       "    <tr>\n",
       "      <th>125</th>\n",
       "      <td>the language of recovery: a blue mountain arts...</td>\n",
       "      <td>church</td>\n",
       "      <td>0.0</td>\n",
       "    </tr>\n",
       "    <tr>\n",
       "      <th>995</th>\n",
       "      <td>the parish and the hill</td>\n",
       "      <td>church</td>\n",
       "      <td>0.0</td>\n",
       "    </tr>\n",
       "    <tr>\n",
       "      <th>515</th>\n",
       "      <td>the penguin book of victorian verse</td>\n",
       "      <td>church</td>\n",
       "      <td>0.0</td>\n",
       "    </tr>\n",
       "    <tr>\n",
       "      <th>1415</th>\n",
       "      <td>the whistling song</td>\n",
       "      <td>church</td>\n",
       "      <td>0.0</td>\n",
       "    </tr>\n",
       "    <tr>\n",
       "      <th>1475</th>\n",
       "      <td>the wonderful thing about hiccups</td>\n",
       "      <td>church</td>\n",
       "      <td>0.0</td>\n",
       "    </tr>\n",
       "  </tbody>\n",
       "</table>\n",
       "</div>"
      ],
      "text/plain": [
       "                                                   book    term  tfidf\n",
       "815                                       a bowl of red  church    0.0\n",
       "1385                   a vindication of natural society  church    0.0\n",
       "185                            a woman of no importance  church    0.0\n",
       "1325                   amelia earhart: aviation pioneer  church    0.0\n",
       "1175  beyond the rainbow: the land where imaginary a...  church    0.0\n",
       "65    budo mind and body: training secrets of the ja...  church    0.0\n",
       "95    budo secrets: teachings of the martial arts ma...  church    0.0\n",
       "575                         carolina ghost woods: poems  church    0.0\n",
       "1085  celtic heritage: ancient tradition in ireland ...  church    0.0\n",
       "665             changing light at sandover, the: a poem  church    0.0\n",
       "635                                     christ the lord  church    0.0\n",
       "5                                        classical budo  church    0.0\n",
       "545                cliffsnotes on rand's atlas shrugged  church    0.0\n",
       "1025                                              coast  church    0.0\n",
       "1055                                coast: from the air  church    0.0\n",
       "965   dangerous friend: the teacher-student relation...  church    0.0\n",
       "1265  divine comedy, inferno 2 vol. set: text and co...  church    0.0\n",
       "1445  double bill: forty years on & a woman of no im...  church    0.0\n",
       "725                                               filth  church    0.0\n",
       "215     further reflections on the revolution in france  church    0.0\n",
       "275   haiku journey, basho's narrow road to a far pr...  church    0.0\n",
       "1145                                      hawkes harbor  church    0.0\n",
       "845   jacques tati, de françois le facteur à monsieu...  church    0.0\n",
       "155   james merrill and w.h. auden: homosexuality an...  church    0.0\n",
       "335                                         jane austen  church    0.0\n",
       "935   keraban the inflexible: adventures in the euxi...  church    0.0\n",
       "485             lost star: the story of amelia earheart  church    0.0\n",
       "425                                madonna: a biography  church    0.0\n",
       "1355                                           majestic  church    0.0\n",
       "1115                                   marguerite duras  church    0.0\n",
       "365                                 mrs. mcginty's dead  church    0.0\n",
       "1295                              once upon an elephant  church    0.0\n",
       "605                  out of egypt (christ the lord, #1)  church    0.0\n",
       "785   postcolonial duras: cultural memory in postwar...  church    0.0\n",
       "695                     puttering about in a small land  church    0.0\n",
       "1235  reluctant dissenter: a catholic bishop's journ...  church    1.0\n",
       "455                 saffo & excerpts from furio cammila  church    0.0\n",
       "305   select works of edmund burke: reflections on t...  church    0.0\n",
       "35           selected poems and translations: 1969-1991  church    0.0\n",
       "875                                    silent seduction  church    0.0\n",
       "395                                      spirit of budo  church    0.0\n",
       "1205  stepping stones of the steward: a faith journe...  church    1.0\n",
       "245                              the earth strikes back  church    0.0\n",
       "755                                   the easter parade  church    0.0\n",
       "905   the erotics of passage: pleasure, politics, an...  church    0.0\n",
       "125   the language of recovery: a blue mountain arts...  church    0.0\n",
       "995                             the parish and the hill  church    0.0\n",
       "515                 the penguin book of victorian verse  church    0.0\n",
       "1415                                 the whistling song  church    0.0\n",
       "1475                  the wonderful thing about hiccups  church    0.0"
      ]
     },
     "execution_count": 61,
     "metadata": {},
     "output_type": "execute_result"
    }
   ],
   "source": [
    "# Find books with term \"london\"\n",
    "tfidf_df_preview[tfidf_df_preview['term'].str.contains('church')]"
   ]
  },
  {
   "cell_type": "code",
   "execution_count": 62,
   "id": "bdfe03d8-e74c-42fb-9ac8-48b8d8dc5b29",
   "metadata": {},
   "outputs": [
    {
     "data": {
      "text/html": [
       "<div>\n",
       "<style scoped>\n",
       "    .dataframe tbody tr th:only-of-type {\n",
       "        vertical-align: middle;\n",
       "    }\n",
       "\n",
       "    .dataframe tbody tr th {\n",
       "        vertical-align: top;\n",
       "    }\n",
       "\n",
       "    .dataframe thead th {\n",
       "        text-align: right;\n",
       "    }\n",
       "</style>\n",
       "<table border=\"1\" class=\"dataframe\">\n",
       "  <thead>\n",
       "    <tr style=\"text-align: right;\">\n",
       "      <th></th>\n",
       "      <th>book</th>\n",
       "      <th>term</th>\n",
       "      <th>tfidf</th>\n",
       "    </tr>\n",
       "  </thead>\n",
       "  <tbody>\n",
       "    <tr>\n",
       "      <th>1026</th>\n",
       "      <td>coast</td>\n",
       "      <td>coast</td>\n",
       "      <td>1.0</td>\n",
       "    </tr>\n",
       "    <tr>\n",
       "      <th>1020</th>\n",
       "      <td>coast</td>\n",
       "      <td>book</td>\n",
       "      <td>0.0</td>\n",
       "    </tr>\n",
       "    <tr>\n",
       "      <th>1021</th>\n",
       "      <td>coast</td>\n",
       "      <td>books</td>\n",
       "      <td>0.0</td>\n",
       "    </tr>\n",
       "    <tr>\n",
       "      <th>1022</th>\n",
       "      <td>coast</td>\n",
       "      <td>buddhism</td>\n",
       "      <td>0.0</td>\n",
       "    </tr>\n",
       "    <tr>\n",
       "      <th>1023</th>\n",
       "      <td>coast</td>\n",
       "      <td>budo</td>\n",
       "      <td>0.0</td>\n",
       "    </tr>\n",
       "  </tbody>\n",
       "</table>\n",
       "</div>"
      ],
      "text/plain": [
       "       book      term  tfidf\n",
       "1026  coast     coast    1.0\n",
       "1020  coast      book    0.0\n",
       "1021  coast     books    0.0\n",
       "1022  coast  buddhism    0.0\n",
       "1023  coast      budo    0.0"
      ]
     },
     "execution_count": 62,
     "metadata": {},
     "output_type": "execute_result"
    }
   ],
   "source": [
    "# Find book names with word mystery\n",
    "tfidf_df_preview[tfidf_df_preview['book'].str.contains('coast')].head(5)"
   ]
  },
  {
   "cell_type": "code",
   "execution_count": 63,
   "id": "de67c657-bcf6-475a-afd7-86460b465428",
   "metadata": {},
   "outputs": [
    {
     "data": {
      "text/html": [
       "<div>\n",
       "<style scoped>\n",
       "    .dataframe tbody tr th:only-of-type {\n",
       "        vertical-align: middle;\n",
       "    }\n",
       "\n",
       "    .dataframe tbody tr th {\n",
       "        vertical-align: top;\n",
       "    }\n",
       "\n",
       "    .dataframe thead th {\n",
       "        text-align: right;\n",
       "    }\n",
       "</style>\n",
       "<table border=\"1\" class=\"dataframe\">\n",
       "  <thead>\n",
       "    <tr style=\"text-align: right;\">\n",
       "      <th></th>\n",
       "      <th>book</th>\n",
       "      <th>term</th>\n",
       "      <th>tfidf</th>\n",
       "    </tr>\n",
       "  </thead>\n",
       "  <tbody>\n",
       "    <tr>\n",
       "      <th>833</th>\n",
       "      <td>a bowl of red</td>\n",
       "      <td>recipes</td>\n",
       "      <td>1.000000</td>\n",
       "    </tr>\n",
       "    <tr>\n",
       "      <th>1384</th>\n",
       "      <td>a vindication of natural society</td>\n",
       "      <td>burke</td>\n",
       "      <td>1.000000</td>\n",
       "    </tr>\n",
       "    <tr>\n",
       "      <th>194</th>\n",
       "      <td>a woman of no importance</td>\n",
       "      <td>mrs</td>\n",
       "      <td>0.707107</td>\n",
       "    </tr>\n",
       "    <tr>\n",
       "      <th>209</th>\n",
       "      <td>a woman of no importance</td>\n",
       "      <td>woman</td>\n",
       "      <td>0.707107</td>\n",
       "    </tr>\n",
       "    <tr>\n",
       "      <th>1349</th>\n",
       "      <td>amelia earhart: aviation pioneer</td>\n",
       "      <td>woman</td>\n",
       "      <td>1.000000</td>\n",
       "    </tr>\n",
       "    <tr>\n",
       "      <th>1170</th>\n",
       "      <td>beyond the rainbow: the land where imaginary a...</td>\n",
       "      <td>book</td>\n",
       "      <td>1.000000</td>\n",
       "    </tr>\n",
       "    <tr>\n",
       "      <th>63</th>\n",
       "      <td>budo mind and body: training secrets of the ja...</td>\n",
       "      <td>budo</td>\n",
       "      <td>0.577350</td>\n",
       "    </tr>\n",
       "    <tr>\n",
       "      <th>71</th>\n",
       "      <td>budo mind and body: training secrets of the ja...</td>\n",
       "      <td>judo</td>\n",
       "      <td>0.577350</td>\n",
       "    </tr>\n",
       "    <tr>\n",
       "      <th>73</th>\n",
       "      <td>budo mind and body: training secrets of the ja...</td>\n",
       "      <td>martial</td>\n",
       "      <td>0.577350</td>\n",
       "    </tr>\n",
       "    <tr>\n",
       "      <th>93</th>\n",
       "      <td>budo secrets: teachings of the martial arts ma...</td>\n",
       "      <td>budo</td>\n",
       "      <td>0.577350</td>\n",
       "    </tr>\n",
       "    <tr>\n",
       "      <th>101</th>\n",
       "      <td>budo secrets: teachings of the martial arts ma...</td>\n",
       "      <td>judo</td>\n",
       "      <td>0.577350</td>\n",
       "    </tr>\n",
       "    <tr>\n",
       "      <th>103</th>\n",
       "      <td>budo secrets: teachings of the martial arts ma...</td>\n",
       "      <td>martial</td>\n",
       "      <td>0.577350</td>\n",
       "    </tr>\n",
       "    <tr>\n",
       "      <th>587</th>\n",
       "      <td>carolina ghost woods: poems</td>\n",
       "      <td>poems</td>\n",
       "      <td>0.743343</td>\n",
       "    </tr>\n",
       "    <tr>\n",
       "      <th>589</th>\n",
       "      <td>carolina ghost woods: poems</td>\n",
       "      <td>poetry</td>\n",
       "      <td>0.668911</td>\n",
       "    </tr>\n",
       "    <tr>\n",
       "      <th>1106</th>\n",
       "      <td>celtic heritage: ancient tradition in ireland ...</td>\n",
       "      <td>tales</td>\n",
       "      <td>1.000000</td>\n",
       "    </tr>\n",
       "    <tr>\n",
       "      <th>688</th>\n",
       "      <td>changing light at sandover, the: a poem</td>\n",
       "      <td>verse</td>\n",
       "      <td>0.758549</td>\n",
       "    </tr>\n",
       "    <tr>\n",
       "      <th>679</th>\n",
       "      <td>changing light at sandover, the: a poem</td>\n",
       "      <td>poetry</td>\n",
       "      <td>0.651617</td>\n",
       "    </tr>\n",
       "    <tr>\n",
       "      <th>630</th>\n",
       "      <td>christ the lord</td>\n",
       "      <td>book</td>\n",
       "      <td>0.756070</td>\n",
       "    </tr>\n",
       "    <tr>\n",
       "      <th>645</th>\n",
       "      <td>christ the lord</td>\n",
       "      <td>novel</td>\n",
       "      <td>0.654491</td>\n",
       "    </tr>\n",
       "    <tr>\n",
       "      <th>2</th>\n",
       "      <td>classical budo</td>\n",
       "      <td>buddhism</td>\n",
       "      <td>0.500000</td>\n",
       "    </tr>\n",
       "    <tr>\n",
       "      <th>3</th>\n",
       "      <td>classical budo</td>\n",
       "      <td>budo</td>\n",
       "      <td>0.500000</td>\n",
       "    </tr>\n",
       "    <tr>\n",
       "      <th>11</th>\n",
       "      <td>classical budo</td>\n",
       "      <td>judo</td>\n",
       "      <td>0.500000</td>\n",
       "    </tr>\n",
       "    <tr>\n",
       "      <th>13</th>\n",
       "      <td>classical budo</td>\n",
       "      <td>martial</td>\n",
       "      <td>0.500000</td>\n",
       "    </tr>\n",
       "    <tr>\n",
       "      <th>552</th>\n",
       "      <td>cliffsnotes on rand's atlas shrugged</td>\n",
       "      <td>literature</td>\n",
       "      <td>0.736834</td>\n",
       "    </tr>\n",
       "    <tr>\n",
       "      <th>541</th>\n",
       "      <td>cliffsnotes on rand's atlas shrugged</td>\n",
       "      <td>books</td>\n",
       "      <td>0.676074</td>\n",
       "    </tr>\n",
       "    <tr>\n",
       "      <th>1026</th>\n",
       "      <td>coast</td>\n",
       "      <td>coast</td>\n",
       "      <td>1.000000</td>\n",
       "    </tr>\n",
       "    <tr>\n",
       "      <th>1056</th>\n",
       "      <td>coast: from the air</td>\n",
       "      <td>coast</td>\n",
       "      <td>1.000000</td>\n",
       "    </tr>\n",
       "    <tr>\n",
       "      <th>962</th>\n",
       "      <td>dangerous friend: the teacher-student relation...</td>\n",
       "      <td>buddhism</td>\n",
       "      <td>1.000000</td>\n",
       "    </tr>\n",
       "    <tr>\n",
       "      <th>1288</th>\n",
       "      <td>divine comedy, inferno 2 vol. set: text and co...</td>\n",
       "      <td>verse</td>\n",
       "      <td>1.000000</td>\n",
       "    </tr>\n",
       "    <tr>\n",
       "      <th>1465</th>\n",
       "      <td>double bill: forty years on &amp; a woman of no im...</td>\n",
       "      <td>routledge</td>\n",
       "      <td>1.000000</td>\n",
       "    </tr>\n",
       "    <tr>\n",
       "      <th>727</th>\n",
       "      <td>filth</td>\n",
       "      <td>detective</td>\n",
       "      <td>0.783055</td>\n",
       "    </tr>\n",
       "    <tr>\n",
       "      <th>735</th>\n",
       "      <td>filth</td>\n",
       "      <td>novel</td>\n",
       "      <td>0.621953</td>\n",
       "    </tr>\n",
       "    <tr>\n",
       "      <th>214</th>\n",
       "      <td>further reflections on the revolution in france</td>\n",
       "      <td>burke</td>\n",
       "      <td>0.707107</td>\n",
       "    </tr>\n",
       "    <tr>\n",
       "      <th>234</th>\n",
       "      <td>further reflections on the revolution in france</td>\n",
       "      <td>revolutionary</td>\n",
       "      <td>0.707107</td>\n",
       "    </tr>\n",
       "    <tr>\n",
       "      <th>272</th>\n",
       "      <td>haiku journey, basho's narrow road to a far pr...</td>\n",
       "      <td>buddhism</td>\n",
       "      <td>0.707107</td>\n",
       "    </tr>\n",
       "    <tr>\n",
       "      <th>298</th>\n",
       "      <td>haiku journey, basho's narrow road to a far pr...</td>\n",
       "      <td>verse</td>\n",
       "      <td>0.707107</td>\n",
       "    </tr>\n",
       "    <tr>\n",
       "      <th>1155</th>\n",
       "      <td>hawkes harbor</td>\n",
       "      <td>novel</td>\n",
       "      <td>1.000000</td>\n",
       "    </tr>\n",
       "    <tr>\n",
       "      <th>867</th>\n",
       "      <td>jacques tati, de françois le facteur à monsieu...</td>\n",
       "      <td>une</td>\n",
       "      <td>1.000000</td>\n",
       "    </tr>\n",
       "    <tr>\n",
       "      <th>168</th>\n",
       "      <td>james merrill and w.h. auden: homosexuality an...</td>\n",
       "      <td>poet</td>\n",
       "      <td>0.622596</td>\n",
       "    </tr>\n",
       "    <tr>\n",
       "      <th>170</th>\n",
       "      <td>james merrill and w.h. auden: homosexuality an...</td>\n",
       "      <td>poets</td>\n",
       "      <td>0.571255</td>\n",
       "    </tr>\n",
       "    <tr>\n",
       "      <th>169</th>\n",
       "      <td>james merrill and w.h. auden: homosexuality an...</td>\n",
       "      <td>poetry</td>\n",
       "      <td>0.534829</td>\n",
       "    </tr>\n",
       "    <tr>\n",
       "      <th>342</th>\n",
       "      <td>jane austen</td>\n",
       "      <td>literature</td>\n",
       "      <td>0.723329</td>\n",
       "    </tr>\n",
       "    <tr>\n",
       "      <th>355</th>\n",
       "      <td>jane austen</td>\n",
       "      <td>routledge</td>\n",
       "      <td>0.690503</td>\n",
       "    </tr>\n",
       "    <tr>\n",
       "      <th>940</th>\n",
       "      <td>keraban the inflexible: adventures in the euxi...</td>\n",
       "      <td>fiction</td>\n",
       "      <td>1.000000</td>\n",
       "    </tr>\n",
       "    <tr>\n",
       "      <th>496</th>\n",
       "      <td>lost star: the story of amelia earheart</td>\n",
       "      <td>photographs</td>\n",
       "      <td>0.723329</td>\n",
       "    </tr>\n",
       "    <tr>\n",
       "      <th>509</th>\n",
       "      <td>lost star: the story of amelia earheart</td>\n",
       "      <td>woman</td>\n",
       "      <td>0.690503</td>\n",
       "    </tr>\n",
       "    <tr>\n",
       "      <th>436</th>\n",
       "      <td>madonna: a biography</td>\n",
       "      <td>photographs</td>\n",
       "      <td>0.723329</td>\n",
       "    </tr>\n",
       "    <tr>\n",
       "      <th>449</th>\n",
       "      <td>madonna: a biography</td>\n",
       "      <td>woman</td>\n",
       "      <td>0.690503</td>\n",
       "    </tr>\n",
       "    <tr>\n",
       "      <th>1360</th>\n",
       "      <td>majestic</td>\n",
       "      <td>fiction</td>\n",
       "      <td>1.000000</td>\n",
       "    </tr>\n",
       "    <tr>\n",
       "      <th>1118</th>\n",
       "      <td>marguerite duras</td>\n",
       "      <td>duras</td>\n",
       "      <td>1.000000</td>\n",
       "    </tr>\n",
       "  </tbody>\n",
       "</table>\n",
       "</div>"
      ],
      "text/plain": [
       "                                                   book           term  \\\n",
       "833                                       a bowl of red        recipes   \n",
       "1384                   a vindication of natural society          burke   \n",
       "194                            a woman of no importance            mrs   \n",
       "209                            a woman of no importance          woman   \n",
       "1349                   amelia earhart: aviation pioneer          woman   \n",
       "1170  beyond the rainbow: the land where imaginary a...           book   \n",
       "63    budo mind and body: training secrets of the ja...           budo   \n",
       "71    budo mind and body: training secrets of the ja...           judo   \n",
       "73    budo mind and body: training secrets of the ja...        martial   \n",
       "93    budo secrets: teachings of the martial arts ma...           budo   \n",
       "101   budo secrets: teachings of the martial arts ma...           judo   \n",
       "103   budo secrets: teachings of the martial arts ma...        martial   \n",
       "587                         carolina ghost woods: poems          poems   \n",
       "589                         carolina ghost woods: poems         poetry   \n",
       "1106  celtic heritage: ancient tradition in ireland ...          tales   \n",
       "688             changing light at sandover, the: a poem          verse   \n",
       "679             changing light at sandover, the: a poem         poetry   \n",
       "630                                     christ the lord           book   \n",
       "645                                     christ the lord          novel   \n",
       "2                                        classical budo       buddhism   \n",
       "3                                        classical budo           budo   \n",
       "11                                       classical budo           judo   \n",
       "13                                       classical budo        martial   \n",
       "552                cliffsnotes on rand's atlas shrugged     literature   \n",
       "541                cliffsnotes on rand's atlas shrugged          books   \n",
       "1026                                              coast          coast   \n",
       "1056                                coast: from the air          coast   \n",
       "962   dangerous friend: the teacher-student relation...       buddhism   \n",
       "1288  divine comedy, inferno 2 vol. set: text and co...          verse   \n",
       "1465  double bill: forty years on & a woman of no im...      routledge   \n",
       "727                                               filth      detective   \n",
       "735                                               filth          novel   \n",
       "214     further reflections on the revolution in france          burke   \n",
       "234     further reflections on the revolution in france  revolutionary   \n",
       "272   haiku journey, basho's narrow road to a far pr...       buddhism   \n",
       "298   haiku journey, basho's narrow road to a far pr...          verse   \n",
       "1155                                      hawkes harbor          novel   \n",
       "867   jacques tati, de françois le facteur à monsieu...            une   \n",
       "168   james merrill and w.h. auden: homosexuality an...           poet   \n",
       "170   james merrill and w.h. auden: homosexuality an...          poets   \n",
       "169   james merrill and w.h. auden: homosexuality an...         poetry   \n",
       "342                                         jane austen     literature   \n",
       "355                                         jane austen      routledge   \n",
       "940   keraban the inflexible: adventures in the euxi...        fiction   \n",
       "496             lost star: the story of amelia earheart    photographs   \n",
       "509             lost star: the story of amelia earheart          woman   \n",
       "436                                madonna: a biography    photographs   \n",
       "449                                madonna: a biography          woman   \n",
       "1360                                           majestic        fiction   \n",
       "1118                                   marguerite duras          duras   \n",
       "\n",
       "         tfidf  \n",
       "833   1.000000  \n",
       "1384  1.000000  \n",
       "194   0.707107  \n",
       "209   0.707107  \n",
       "1349  1.000000  \n",
       "1170  1.000000  \n",
       "63    0.577350  \n",
       "71    0.577350  \n",
       "73    0.577350  \n",
       "93    0.577350  \n",
       "101   0.577350  \n",
       "103   0.577350  \n",
       "587   0.743343  \n",
       "589   0.668911  \n",
       "1106  1.000000  \n",
       "688   0.758549  \n",
       "679   0.651617  \n",
       "630   0.756070  \n",
       "645   0.654491  \n",
       "2     0.500000  \n",
       "3     0.500000  \n",
       "11    0.500000  \n",
       "13    0.500000  \n",
       "552   0.736834  \n",
       "541   0.676074  \n",
       "1026  1.000000  \n",
       "1056  1.000000  \n",
       "962   1.000000  \n",
       "1288  1.000000  \n",
       "1465  1.000000  \n",
       "727   0.783055  \n",
       "735   0.621953  \n",
       "214   0.707107  \n",
       "234   0.707107  \n",
       "272   0.707107  \n",
       "298   0.707107  \n",
       "1155  1.000000  \n",
       "867   1.000000  \n",
       "168   0.622596  \n",
       "170   0.571255  \n",
       "169   0.534829  \n",
       "342   0.723329  \n",
       "355   0.690503  \n",
       "940   1.000000  \n",
       "496   0.723329  \n",
       "509   0.690503  \n",
       "436   0.723329  \n",
       "449   0.690503  \n",
       "1360  1.000000  \n",
       "1118  1.000000  "
      ]
     },
     "execution_count": 63,
     "metadata": {},
     "output_type": "execute_result"
    }
   ],
   "source": [
    "def process_word_matrix(word_vec):\n",
    "    # Remove underscores in terms\n",
    "    word_vec.term = word_vec.term.str.replace('_',' ')\n",
    "\n",
    "    # Remove terms with zero tfidf score\n",
    "    word_vec = word_vec[word_vec.tfidf > 0]\n",
    "    \n",
    "    return word_vec\n",
    "\n",
    "tfidf_vec = process_word_matrix(tfidf_df_preview.copy())    \n",
    "tfidf_vec.iloc[0:50]"
   ]
  },
  {
   "cell_type": "markdown",
   "id": "32fba63d-2d7e-4301-8e27-93abf0d1fa8b",
   "metadata": {},
   "source": [
    "- For each book, we will rank its terms based on its tf-idf score. Term with maximum score within the document will get rank 1.\n",
    "- Two or more terms may have same tf-idf score, such terms will overlap in the heatmap."
   ]
  },
  {
   "cell_type": "code",
   "execution_count": 64,
   "id": "71905a0a-3d01-4ff9-862b-5f5fa42ff5e6",
   "metadata": {},
   "outputs": [
    {
     "data": {
      "application/vnd.vegalite.v5+json": {
       "$schema": "https://vega.github.io/schema/vega-lite/v5.17.0.json",
       "config": {
        "view": {
         "continuousHeight": 300,
         "continuousWidth": 300
        }
       },
       "data": {
        "name": "data-4a34b177b3a1107a4da844ca7a95bcc0"
       },
       "datasets": {
        "data-4a34b177b3a1107a4da844ca7a95bcc0": [
         {
          "book": "a bowl of red",
          "term": "recipes",
          "tfidf": 1
         },
         {
          "book": "a vindication of natural society",
          "term": "burke",
          "tfidf": 1
         },
         {
          "book": "a woman of no importance",
          "term": "mrs",
          "tfidf": 0.7071067811865476
         },
         {
          "book": "a woman of no importance",
          "term": "woman",
          "tfidf": 0.7071067811865476
         },
         {
          "book": "amelia earhart: aviation pioneer",
          "term": "woman",
          "tfidf": 1
         },
         {
          "book": "beyond the rainbow: the land where imaginary and enchanting friends come to life",
          "term": "book",
          "tfidf": 1
         },
         {
          "book": "budo mind and body: training secrets of the japanese martial arts",
          "term": "budo",
          "tfidf": 0.5773502691896257
         },
         {
          "book": "budo mind and body: training secrets of the japanese martial arts",
          "term": "judo",
          "tfidf": 0.5773502691896257
         },
         {
          "book": "budo mind and body: training secrets of the japanese martial arts",
          "term": "martial",
          "tfidf": 0.5773502691896257
         },
         {
          "book": "budo secrets: teachings of the martial arts masters",
          "term": "budo",
          "tfidf": 0.5773502691896257
         },
         {
          "book": "budo secrets: teachings of the martial arts masters",
          "term": "judo",
          "tfidf": 0.5773502691896257
         },
         {
          "book": "budo secrets: teachings of the martial arts masters",
          "term": "martial",
          "tfidf": 0.5773502691896257
         },
         {
          "book": "carolina ghost woods: poems",
          "term": "poems",
          "tfidf": 0.7433427243326912
         },
         {
          "book": "carolina ghost woods: poems",
          "term": "poetry",
          "tfidf": 0.6689107520302336
         },
         {
          "book": "celtic heritage: ancient tradition in ireland and wales",
          "term": "tales",
          "tfidf": 1
         },
         {
          "book": "changing light at sandover, the: a poem",
          "term": "verse",
          "tfidf": 0.7585485399682735
         },
         {
          "book": "changing light at sandover, the: a poem",
          "term": "poetry",
          "tfidf": 0.6516165379362318
         },
         {
          "book": "christ the lord",
          "term": "book",
          "tfidf": 0.7560701909261823
         },
         {
          "book": "christ the lord",
          "term": "novel",
          "tfidf": 0.6544905395747491
         },
         {
          "book": "classical budo",
          "term": "buddhism",
          "tfidf": 0.5
         },
         {
          "book": "classical budo",
          "term": "budo",
          "tfidf": 0.5
         },
         {
          "book": "classical budo",
          "term": "judo",
          "tfidf": 0.5
         },
         {
          "book": "classical budo",
          "term": "martial",
          "tfidf": 0.5
         },
         {
          "book": "cliffsnotes on rand's atlas shrugged",
          "term": "literature",
          "tfidf": 0.7368341492180458
         },
         {
          "book": "cliffsnotes on rand's atlas shrugged",
          "term": "books",
          "tfidf": 0.6760735437407078
         },
         {
          "book": "coast",
          "term": "coast",
          "tfidf": 1
         },
         {
          "book": "coast: from the air",
          "term": "coast",
          "tfidf": 1
         },
         {
          "book": "dangerous friend: the teacher-student relationship in vajrayana buddhism",
          "term": "buddhism",
          "tfidf": 1
         },
         {
          "book": "divine comedy, inferno 2 vol. set: text and commentary",
          "term": "verse",
          "tfidf": 1
         },
         {
          "book": "double bill: forty years on & a woman of no importance",
          "term": "routledge",
          "tfidf": 1
         },
         {
          "book": "filth",
          "term": "detective",
          "tfidf": 0.783054631664524
         },
         {
          "book": "filth",
          "term": "novel",
          "tfidf": 0.6219529273415607
         },
         {
          "book": "further reflections on the revolution in france",
          "term": "burke",
          "tfidf": 0.7071067811865475
         },
         {
          "book": "further reflections on the revolution in france",
          "term": "revolutionary",
          "tfidf": 0.7071067811865475
         },
         {
          "book": "haiku journey, basho's narrow road to a far province",
          "term": "buddhism",
          "tfidf": 0.7071067811865475
         },
         {
          "book": "haiku journey, basho's narrow road to a far province",
          "term": "verse",
          "tfidf": 0.7071067811865475
         },
         {
          "book": "hawkes harbor",
          "term": "novel",
          "tfidf": 1
         },
         {
          "book": "jacques tati, de françois le facteur à monsieur hulot",
          "term": "une",
          "tfidf": 1
         },
         {
          "book": "james merrill and w.h. auden: homosexuality and poetic influence",
          "term": "poet",
          "tfidf": 0.6225956863179725
         },
         {
          "book": "james merrill and w.h. auden: homosexuality and poetic influence",
          "term": "poets",
          "tfidf": 0.5712553800789028
         },
         {
          "book": "james merrill and w.h. auden: homosexuality and poetic influence",
          "term": "poetry",
          "tfidf": 0.5348288531008412
         },
         {
          "book": "jane austen",
          "term": "literature",
          "tfidf": 0.7233293185973542
         },
         {
          "book": "jane austen",
          "term": "routledge",
          "tfidf": 0.690503220019637
         },
         {
          "book": "keraban the inflexible: adventures in the euxine (extraordinary voyages, #24)",
          "term": "fiction",
          "tfidf": 1
         },
         {
          "book": "lost star: the story of amelia earheart",
          "term": "photographs",
          "tfidf": 0.7233293185973542
         },
         {
          "book": "lost star: the story of amelia earheart",
          "term": "woman",
          "tfidf": 0.690503220019637
         },
         {
          "book": "madonna: a biography",
          "term": "photographs",
          "tfidf": 0.7233293185973542
         },
         {
          "book": "madonna: a biography",
          "term": "woman",
          "tfidf": 0.690503220019637
         },
         {
          "book": "majestic",
          "term": "fiction",
          "tfidf": 1
         },
         {
          "book": "marguerite duras",
          "term": "duras",
          "tfidf": 1
         },
         {
          "book": "mrs. mcginty's dead",
          "term": "poirot",
          "tfidf": 0.7233293185973542
         },
         {
          "book": "mrs. mcginty's dead",
          "term": "mrs",
          "tfidf": 0.690503220019637
         },
         {
          "book": "once upon an elephant",
          "term": "elephant",
          "tfidf": 1
         },
         {
          "book": "out of egypt (christ the lord, #1)",
          "term": "book",
          "tfidf": 0.7560701909261823
         },
         {
          "book": "out of egypt (christ the lord, #1)",
          "term": "novel",
          "tfidf": 0.6544905395747491
         },
         {
          "book": "postcolonial duras: cultural memory in postwar france",
          "term": "duras",
          "tfidf": 1
         },
         {
          "book": "puttering about in a small land",
          "term": "published",
          "tfidf": 0.783054631664524
         },
         {
          "book": "puttering about in a small land",
          "term": "novel",
          "tfidf": 0.6219529273415607
         },
         {
          "book": "reluctant dissenter: a catholic bishop's journey of faith",
          "term": "church",
          "tfidf": 1
         },
         {
          "book": "saffo & excerpts from furio cammila",
          "term": "published",
          "tfidf": 0.7233293185973542
         },
         {
          "book": "saffo & excerpts from furio cammila",
          "term": "routledge",
          "tfidf": 0.690503220019637
         },
         {
          "book": "select works of edmund burke: reflections on the revolution in france",
          "term": "burke",
          "tfidf": 0.7071067811865475
         },
         {
          "book": "select works of edmund burke: reflections on the revolution in france",
          "term": "revolutionary",
          "tfidf": 0.7071067811865475
         },
         {
          "book": "selected poems and translations: 1969-1991",
          "term": "poet",
          "tfidf": 0.5352029307735102
         },
         {
          "book": "selected poems and translations: 1969-1991",
          "term": "poems",
          "tfidf": 0.510914375459974
         },
         {
          "book": "selected poems and translations: 1969-1991",
          "term": "poets",
          "tfidf": 0.49106918078166356
         },
         {
          "book": "selected poems and translations: 1969-1991",
          "term": "poetry",
          "tfidf": 0.459755786832766
         },
         {
          "book": "silent seduction",
          "term": "mrs",
          "tfidf": 1
         },
         {
          "book": "spirit of budo",
          "term": "published",
          "tfidf": 0.7233293185973542
         },
         {
          "book": "spirit of budo",
          "term": "routledge",
          "tfidf": 0.690503220019637
         },
         {
          "book": "stepping stones of the steward: a faith journey through jesus' parables",
          "term": "church",
          "tfidf": 1
         },
         {
          "book": "the earth strikes back",
          "term": "fiction",
          "tfidf": 0.7071067811865475
         },
         {
          "book": "the earth strikes back",
          "term": "tales",
          "tfidf": 0.7071067811865475
         },
         {
          "book": "the easter parade",
          "term": "novel",
          "tfidf": 1
         },
         {
          "book": "the erotics of passage: pleasure, politics, and form in the later works of marguerite duras",
          "term": "duras",
          "tfidf": 1
         },
         {
          "book": "the language of recovery: a blue mountain arts collection (\"language of ... \" series)",
          "term": "poet",
          "tfidf": 0.6104199612297309
         },
         {
          "book": "the language of recovery: a blue mountain arts collection (\"language of ... \" series)",
          "term": "books",
          "tfidf": 0.5600836861274813
         },
         {
          "book": "the language of recovery: a blue mountain arts collection (\"language of ... \" series)",
          "term": "poets",
          "tfidf": 0.5600836861274813
         },
         {
          "book": "the parish and the hill",
          "term": "novel",
          "tfidf": 1
         },
         {
          "book": "the penguin book of victorian verse",
          "term": "poets",
          "tfidf": 0.7299980749353477
         },
         {
          "book": "the penguin book of victorian verse",
          "term": "poetry",
          "tfidf": 0.6834492011778829
         },
         {
          "book": "the whistling song",
          "term": "novel",
          "tfidf": 1
         },
         {
          "book": "the wonderful thing about hiccups",
          "term": "books",
          "tfidf": 1
         }
        ]
       },
       "layer": [
        {
         "encoding": {
          "color": {
           "field": "tfidf",
           "scale": {
            "scheme": "redpurple"
           },
           "type": "quantitative"
          },
          "x": {
           "field": "rank",
           "type": "ordinal"
          },
          "y": {
           "field": "book",
           "type": "nominal"
          }
         },
         "mark": {
          "size": 5,
          "type": "rect"
         },
         "transform": [
          {
           "groupby": [
            "book"
           ],
           "sort": [
            {
             "field": "tfidf",
             "order": "descending"
            }
           ],
           "window": [
            {
             "as": "rank",
             "field": "",
             "op": "dense_rank"
            }
           ]
          }
         ]
        },
        {
         "encoding": {
          "color": {
           "condition": {
            "test": "(datum.tfidf >= 0.23)",
            "value": "white"
           },
           "value": "black"
          },
          "text": {
           "field": "term",
           "type": "nominal"
          },
          "x": {
           "field": "rank",
           "type": "ordinal"
          },
          "y": {
           "field": "book",
           "type": "nominal"
          }
         },
         "mark": {
          "align": "center",
          "baseline": "middle",
          "lineBreak": "",
          "type": "text"
         },
         "transform": [
          {
           "groupby": [
            "book"
           ],
           "sort": [
            {
             "field": "tfidf",
             "order": "descending"
            }
           ],
           "window": [
            {
             "as": "rank",
             "field": "",
             "op": "dense_rank"
            }
           ]
          }
         ]
        }
       ],
       "width": 800
      },
      "text/plain": [
       "<VegaLite 5 object>\n",
       "\n",
       "If you see this message, it means the renderer has not been properly enabled\n",
       "for the frontend that you are using. For more information, see\n",
       "https://altair-viz.github.io/user_guide/display_frontends.html#troubleshooting\n"
      ]
     },
     "execution_count": 64,
     "metadata": {},
     "output_type": "execute_result"
    }
   ],
   "source": [
    "import altair as alt\n",
    "alt.renderers.enable('mimetype')\n",
    "grid = alt.Chart(tfidf_vec).encode(\n",
    "    x = 'rank:O',\n",
    "    y = 'book:N'\n",
    ").transform_window(\n",
    "    rank = \"dense_rank()\",\n",
    "    sort = [alt.SortField(\"tfidf\", order=\"descending\")],\n",
    "    groupby = [\"book\"],\n",
    ")\n",
    "heatmap = grid.mark_rect(size=5).encode(\n",
    "    alt.Color('tfidf:Q', scale=alt.Scale(scheme='redpurple'))\n",
    ")\n",
    "text = grid.mark_text(align='center', baseline='middle', lineBreak='').encode(\n",
    "    text = 'term:N',\n",
    "    color = alt.condition(alt.datum.tfidf >= 0.23, alt.value('white'), alt.value('black'))\n",
    ")\n",
    "(heatmap+text).properties(width = 800)"
   ]
  },
  {
   "cell_type": "markdown",
   "id": "a5459cfe-67f7-4e78-9035-19bb2e852625",
   "metadata": {},
   "source": [
    "---\n",
    "### Cosine Similarity between books vector representation"
   ]
  },
  {
   "cell_type": "code",
   "execution_count": 65,
   "id": "dd262636-e4ce-49a8-9a25-92ca88a62e57",
   "metadata": {},
   "outputs": [],
   "source": [
    "from sklearn.metrics.pairwise import cosine_similarity\n",
    "book_cosine_sim = cosine_similarity(tfidf_encoding, tfidf_encoding)"
   ]
  },
  {
   "cell_type": "code",
   "execution_count": 66,
   "id": "5b4dea6f-9426-46b7-88a9-c533cc0a41f0",
   "metadata": {},
   "outputs": [
    {
     "data": {
      "text/plain": [
       "array([[0., 0., 0., ..., 0., 0., 0.],\n",
       "       [0., 0., 0., ..., 0., 0., 0.],\n",
       "       [0., 0., 0., ..., 0., 0., 0.],\n",
       "       ...,\n",
       "       [0., 0., 0., ..., 1., 0., 0.],\n",
       "       [0., 0., 0., ..., 0., 0., 0.],\n",
       "       [0., 0., 0., ..., 0., 0., 0.]])"
      ]
     },
     "execution_count": 66,
     "metadata": {},
     "output_type": "execute_result"
    }
   ],
   "source": [
    "# Preview Similarity Matrix\n",
    "book_cosine_sim"
   ]
  },
  {
   "cell_type": "code",
   "execution_count": 67,
   "id": "4ad73b3e-29f4-4967-8067-c1ee78242acb",
   "metadata": {},
   "outputs": [
    {
     "data": {
      "image/png": "[encoded data removed]",
      "text/plain": [
       "<Figure size 480x480 with 1 Axes>"
      ]
     },
     "metadata": {},
     "output_type": "display_data"
    }
   ],
   "source": [
    "# Vidualize similarity between books\n",
    "import matplotlib.pyplot as plt\n",
    "\n",
    "plt.figure(figsize=(6, 6), dpi=80)\n",
    "plt.spy(book_cosine_sim, precision = 0.1, markersize = 0.04)\n",
    "plt.tight_layout()\n",
    "plt.show()\n"
   ]
  },
  {
   "cell_type": "markdown",
   "id": "6fa19c9b-539f-43eb-850d-8675f3ef3f27",
   "metadata": {},
   "source": [
    "---\n",
    "### Recommendation\n",
    "- Given a book name, find top n similar books based on cosine similarity score.\n",
    "1) Series Information\n",
    "2) Other Books In Numbered Series\n",
    "3) Theme\n",
    "4) Author"
   ]
  },
  {
   "cell_type": "code",
   "execution_count": 68,
   "id": "204166ab-9586-4837-abf8-d590cfc3e496",
   "metadata": {},
   "outputs": [],
   "source": [
    "books = pd.Series(model_data['Name'])\n",
    "\n",
    "def recommend_books_similar_to(book_name, n=5, cosine_sim_mat=book_cosine_sim):\n",
    "    # get index of the imput book\n",
    "    input_idx = books[books == book_name].index[0]   \n",
    "    # Find top n similar books with decreasing order of similarity score\n",
    "    top_n_books_idx = list(pd.Series(cosine_sim_mat[input_idx]).sort_values(ascending = False).iloc[1:n+1].index)\n",
    "    # [1:6] to exclude 0 (index 0 is the input movie itself)\n",
    "    \n",
    "    books_list = list(books)\n",
    "    recommended_books = [books[i] for i in top_n_books_idx]\n",
    "        \n",
    "    return recommended_books"
   ]
  },
  {
   "cell_type": "code",
   "execution_count": 73,
   "id": "66fe214e",
   "metadata": {},
   "outputs": [],
   "source": [
    "def recommend_bookIDs_similar_to(book_name, n=5, cosine_sim_mat=book_cosine_sim):\n",
    "    # Get index of the input book\n",
    "    input_idx = books[books == book_name].index[0]   \n",
    "    \n",
    "    # Find top n similar books with decreasing order of similarity score\n",
    "    top_n_books_idx = list(pd.Series(cosine_sim_mat[input_idx]).sort_values(ascending=False).iloc[1:n+1].index)\n",
    "    \n",
    "    # Create a list of recommended book IDs\n",
    "    recommended_ids = model_data['Id'].iloc[top_n_books_idx].tolist()\n",
    "    \n",
    "    return recommended_ids"
   ]
  },
  {
   "cell_type": "code",
   "execution_count": 72,
   "id": "a3711ced-7743-4204-ae17-bbe3c4123a9e",
   "metadata": {},
   "outputs": [
    {
     "name": "stdout",
     "output_type": "stream",
     "text": [
      "\u001b[1mRecommendation (Series Information) based on the read: baby's little engine that could)\u001b[0m\n"
     ]
    },
    {
     "data": {
      "text/plain": [
       "[\"baby's little engine that could\",\n",
       " 'the wonderful thing about hiccups',\n",
       " \"cliffsnotes on rand's atlas shrugged\",\n",
       " 'the language of recovery: a blue mountain arts collection (\"language of ... \" series)',\n",
       " 'the warrior lives (guardians of the flame #5)']"
      ]
     },
     "metadata": {},
     "output_type": "display_data"
    }
   ],
   "source": [
    "# Recommendations with series information\n",
    "print(\"\\033[1m{}\\033[0m\".format(\"Recommendation (Series Information) based on the read: baby's little engine that could)\"))\n",
    "display(recommend_books_similar_to(\"baby's little engine that could\", 5))\n"
   ]
  },
  {
   "cell_type": "code",
   "execution_count": 74,
   "id": "8762ef5a",
   "metadata": {},
   "outputs": [
    {
     "name": "stdout",
     "output_type": "stream",
     "text": [
      "\u001b[1mRecommendation (Series Information) based on the read: baby's little engine that could)\u001b[0m\n"
     ]
    },
    {
     "data": {
      "text/plain": [
       "[1100074, 1100230, 1100101, 1100412, 1100379]"
      ]
     },
     "metadata": {},
     "output_type": "display_data"
    }
   ],
   "source": [
    "# Recommendations with series information\n",
    "print(\"\\033[1m{}\\033[0m\".format(\"Recommendation (Series Information) based on the read: baby's little engine that could)\"))\n",
    "display(recommend_bookIDs_similar_to(\"baby's little engine that could\", 5))\n"
   ]
  },
  {
   "cell_type": "markdown",
   "id": "8a263b07",
   "metadata": {},
   "source": []
  },
  {
   "cell_type": "code",
   "execution_count": 70,
   "id": "74428c47",
   "metadata": {},
   "outputs": [
    {
     "name": "stdout",
     "output_type": "stream",
     "text": [
      "\u001b[1mRecommendation (Series Information) based on the read: bright hunger)\u001b[0m\n"
     ]
    },
    {
     "data": {
      "text/plain": [
       "[\"perrine's sound and sense: an introduction to poetry\",\n",
       " 'the penguin book of victorian verse',\n",
       " 'carolina ghost woods: poems',\n",
       " 'changing light at sandover, the: a poem',\n",
       " 'james merrill and w.h. auden: homosexuality and poetic influence']"
      ]
     },
     "metadata": {},
     "output_type": "display_data"
    }
   ],
   "source": [
    "# Recommendations with series information\n",
    "print(\"\\033[1m{}\\033[0m\".format(\"Recommendation (Series Information) based on the read: bright hunger)\"))\n",
    "display(recommend_books_similar_to(\"bright hunger\", 5))\n"
   ]
  }
 ],
 "metadata": {
  "kernelspec": {
   "display_name": "Python 3",
   "language": "python",
   "name": "python3"
  },
  "language_info": {
   "codemirror_mode": {
    "name": "ipython",
    "version": 3
   },
   "file_extension": ".py",
   "mimetype": "text/x-python",
   "name": "python",
   "nbconvert_exporter": "python",
   "pygments_lexer": "ipython3",
   "version": "3.11.10"
  }
 },
 "nbformat": 4,
 "nbformat_minor": 5
}
