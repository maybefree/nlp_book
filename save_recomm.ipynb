{
 "cells": [
  {
   "cell_type": "markdown",
   "id": "02a29ca2-9793-43e0-b3e1-b2e8dddfb027",
   "metadata": {},
   "source": [
    "# Text Representation"
   ]
  },
  {
   "cell_type": "code",
   "execution_count": 107,
   "id": "e6eb75ae-dfc9-4ef1-a10e-58ba267cf60e",
   "metadata": {},
   "outputs": [],
   "source": [
    "import pandas as pd"
   ]
  },
  {
   "cell_type": "code",
   "execution_count": 108,
   "id": "b9fbbbb2-85a2-457e-b446-7ad38a0f30a6",
   "metadata": {},
   "outputs": [
    {
     "name": "stdout",
     "output_type": "stream",
     "text": [
      "Before dropping the column:\n",
      "   Unnamed: 0       Id                                               Name  \\\n",
      "0           0  1100003                                         the prince   \n",
      "1           1  1100004  sermons from duke chapel: voices from \"a great...   \n",
      "2           3  1100009                           the idea of a university   \n",
      "3           4  1100010  caring and curing: health and medicine in the ...   \n",
      "4           6  1100013  the alamo remembered: tejano accounts and pers...   \n",
      "\n",
      "               Authors  PublishYear                       Publisher  \\\n",
      "0  niccolò_machiavelli         1998     university_of_chicago_press   \n",
      "1  william_h._willimon         2005     duke_university_press_books   \n",
      "2    john_henry_newman         1996           yale_university_press   \n",
      "3    ronald_l._numbers         1997  johns_hopkins_university_press   \n",
      "4     timothy_matovina         1995       university_of_texas_press   \n",
      "\n",
      "                                         Description  Rating  pagesNumber  \\\n",
      "0  the most famous book on politics ever written ...    3.82          151   \n",
      "1  many of america’s greatest protestant preacher...    4.29          384   \n",
      "2  since its publication almost 150 years ago the...    4.12          400   \n",
      "3  most religious traditions have a rich if large...    3.00          622   \n",
      "4  as mexican soldiers fought the mostly angloame...    3.77          146   \n",
      "\n",
      "                                            keywords  \\\n",
      "0  machiavellis machiavelli prince tyranny biblio...   \n",
      "1           sermons sermon preacher pulpit preachers   \n",
      "2   scholars universities university academic newman   \n",
      "3  judeochristian medicine religious religion med...   \n",
      "4                alamo tejanos 1836 tejano antonians   \n",
      "\n",
      "                                           features         image_path  \n",
      "0   niccolò_machiavelli university_of_chicago_press  cover/1100003.png  \n",
      "1   william_h._willimon duke_university_press_books  cover/1100004.png  \n",
      "2           john_henry_newman yale_university_press  cover/1100009.png  \n",
      "3  ronald_l._numbers johns_hopkins_university_press  cover/1100010.png  \n",
      "4        timothy_matovina university_of_texas_press  cover/1100013.png  \n"
     ]
    }
   ],
   "source": [
    "import pandas as pd\n",
    "\n",
    "# Fetch preprocessed data\n",
    "model_data = pd.read_csv(\"data/keywords.csv\")\n",
    "\n",
    "# Display the DataFrame before dropping the column\n",
    "print(\"Before dropping the column:\")\n",
    "print(model_data.head())\n",
    "\n",
    "# Drop the 'Unnamed: 0' column\n",
    "model_data = model_data.drop(columns=['Unnamed: 0'])"
   ]
  },
  {
   "cell_type": "code",
   "execution_count": 109,
   "id": "eb07b351",
   "metadata": {},
   "outputs": [
    {
     "name": "stdout",
     "output_type": "stream",
     "text": [
      "\n",
      "After dropping the column:\n",
      "        Id                                               Name  \\\n",
      "0  1100003                                         the prince   \n",
      "1  1100004  sermons from duke chapel: voices from \"a great...   \n",
      "2  1100009                           the idea of a university   \n",
      "3  1100010  caring and curing: health and medicine in the ...   \n",
      "4  1100013  the alamo remembered: tejano accounts and pers...   \n",
      "\n",
      "               Authors  PublishYear                       Publisher  \\\n",
      "0  niccolò_machiavelli         1998     university_of_chicago_press   \n",
      "1  william_h._willimon         2005     duke_university_press_books   \n",
      "2    john_henry_newman         1996           yale_university_press   \n",
      "3    ronald_l._numbers         1997  johns_hopkins_university_press   \n",
      "4     timothy_matovina         1995       university_of_texas_press   \n",
      "\n",
      "                                         Description  Rating  pagesNumber  \\\n",
      "0  the most famous book on politics ever written ...    3.82          151   \n",
      "1  many of america’s greatest protestant preacher...    4.29          384   \n",
      "2  since its publication almost 150 years ago the...    4.12          400   \n",
      "3  most religious traditions have a rich if large...    3.00          622   \n",
      "4  as mexican soldiers fought the mostly angloame...    3.77          146   \n",
      "\n",
      "                                            keywords  \\\n",
      "0  machiavellis machiavelli prince tyranny biblio...   \n",
      "1           sermons sermon preacher pulpit preachers   \n",
      "2   scholars universities university academic newman   \n",
      "3  judeochristian medicine religious religion med...   \n",
      "4                alamo tejanos 1836 tejano antonians   \n",
      "\n",
      "                                           features         image_path  \n",
      "0   niccolò_machiavelli university_of_chicago_press  cover/1100003.png  \n",
      "1   william_h._willimon duke_university_press_books  cover/1100004.png  \n",
      "2           john_henry_newman yale_university_press  cover/1100009.png  \n",
      "3  ronald_l._numbers johns_hopkins_university_press  cover/1100010.png  \n",
      "4        timothy_matovina university_of_texas_press  cover/1100013.png  \n"
     ]
    }
   ],
   "source": [
    "# Display the DataFrame after dropping the column\n",
    "print(\"\\nAfter dropping the column:\")\n",
    "print(model_data.head())"
   ]
  },
  {
   "cell_type": "markdown",
   "id": "016bbc90-a579-4353-b0fd-cc6e5d0514a6",
   "metadata": {},
   "source": [
    "---\n",
    "### Vectorize the keywords summary using TF-IDF\n",
    "- Convert the keywords for each book into a numeric vector, based on the frequency of each word in the book's keywords\n",
    "- Keep token pattern such that tokens with underscore are not ignored.\n",
    "- Remove tokens occuring less than 3 times or occur in more than 60% of the documents (common tokens).\n",
    "- Remove english language stop words"
   ]
  },
  {
   "cell_type": "code",
   "execution_count": 110,
   "id": "956d3ed1-34ed-4ea6-912c-ac364476d034",
   "metadata": {},
   "outputs": [],
   "source": [
    "from sklearn.feature_extraction.text import TfidfVectorizer\n",
    "tfidf = TfidfVectorizer(analyzer = 'word',\n",
    "                        min_df=3,\n",
    "                        max_df = 0.6,\n",
    "                        stop_words=\"english\",\n",
    "                        encoding = 'utf-8', \n",
    "                        token_pattern=r\"(?u)\\S\\S+\")\n",
    "tfidf_encoding = tfidf.fit_transform(model_data[\"keywords\"])"
   ]
  },
  {
   "cell_type": "code",
   "execution_count": 111,
   "id": "1e7df3fe-83ef-43f8-8bb0-2c651db28758",
   "metadata": {},
   "outputs": [
    {
     "name": "stdout",
     "output_type": "stream",
     "text": [
      "['adventure' 'album' 'art' 'arthur' 'artists' 'astrologer' 'astrologers'\n",
      " 'astrological' 'astrology' 'author' 'authors' 'balzic' 'biography' 'book'\n",
      " 'books' 'buddhism' 'budo' 'burke' 'century' 'children' 'chinese'\n",
      " 'christian' 'christmas' 'church' 'coast' 'detective' 'doug' 'duras'\n",
      " 'economic' 'edward' 'elephant' 'erotic' 'essays' 'faith' 'family'\n",
      " 'fiction' 'films' 'goddess' 'guide' 'harry' 'harrys' 'healing' 'history'\n",
      " 'industrial' 'james' 'judith' 'judo' 'kafka' 'language' 'library' 'life'\n",
      " 'literary' 'literature' 'mackle' 'maria' 'martial' 'mary' 'mrs' 'murder'\n",
      " 'newman' 'novel' 'novels' 'painting' 'parents' 'peter' 'philosophy'\n",
      " 'photographs' 'photos' 'poems' 'poet' 'poetry' 'poets' 'poirot' 'police'\n",
      " 'published' 'reading' 'recipes' 'religious' 'revolution' 'revolutionary'\n",
      " 'room' 'routledge' 'shes' 'solar' 'spanish' 'spiritual' 'sporting'\n",
      " 'stephanie' 'stories' 'tale' 'tales' 'testament' 'text' 'translation'\n",
      " 'une' 'verse' 'wojcik' 'woman' 'writer']\n"
     ]
    }
   ],
   "source": [
    "# Preview first 100 words in the vocabulary\n",
    "print(tfidf.get_feature_names_out()[1:100])"
   ]
  },
  {
   "cell_type": "code",
   "execution_count": 112,
   "id": "2f24f72e-7086-4450-b2c4-6ec0ccf18faa",
   "metadata": {},
   "outputs": [
    {
     "data": {
      "text/plain": [
       "array([0., 0., 0., 0., 0., 0., 0., 0., 0., 0., 0., 0., 0., 0., 0., 0., 0.,\n",
       "       0., 0., 0., 0., 0., 0., 0., 0., 0., 0., 0., 0., 0., 0., 0., 0., 0.,\n",
       "       0., 0., 0., 0., 0., 0., 0., 0., 0., 0., 0., 0., 0., 0., 0., 0., 0.,\n",
       "       0., 0., 0., 0., 0., 0., 0., 0., 0., 0., 0., 0., 0., 0., 0., 0., 0.,\n",
       "       0., 0., 0., 0., 0., 0., 0., 0., 0., 0., 0., 0., 0., 0., 0., 0., 0.,\n",
       "       0., 0., 0., 0., 0., 0., 0., 0., 0., 0., 0., 0., 0., 0., 0., 0., 0.,\n",
       "       0.])"
      ]
     },
     "execution_count": 112,
     "metadata": {},
     "output_type": "execute_result"
    }
   ],
   "source": [
    "# Lets find representation of a new book's keywords in the existing vocabulary space\n",
    "tfidf.transform([\"looking for alaska by john green\"]).toarray()[0]"
   ]
  },
  {
   "cell_type": "code",
   "execution_count": 113,
   "id": "76f78c2e-c27d-49ed-9fa5-fb5310784a45",
   "metadata": {},
   "outputs": [
    {
     "data": {
      "text/plain": [
       "(500, 103)"
      ]
     },
     "execution_count": 113,
     "metadata": {},
     "output_type": "execute_result"
    }
   ],
   "source": [
    "tfidf_encoding.toarray().shape"
   ]
  },
  {
   "cell_type": "markdown",
   "id": "07464c92-ef64-475c-9e07-a536dcebd671",
   "metadata": {},
   "source": [
    "---\n",
    "### Visualize the TF-IDF word embeddings"
   ]
  },
  {
   "cell_type": "code",
   "execution_count": 114,
   "id": "567e617c-6cfb-427e-ab4a-238a8bdc0604",
   "metadata": {},
   "outputs": [],
   "source": [
    "tfidf_df = pd.DataFrame(tfidf_encoding.toarray(), index=model_data[\"Name\"], columns=tfidf.get_feature_names_out())"
   ]
  },
  {
   "cell_type": "code",
   "execution_count": 115,
   "id": "e70b07ab-6104-4e6e-b0ee-f1da900faecd",
   "metadata": {},
   "outputs": [
    {
     "data": {
      "text/html": [
       "<div>\n",
       "<style scoped>\n",
       "    .dataframe tbody tr th:only-of-type {\n",
       "        vertical-align: middle;\n",
       "    }\n",
       "\n",
       "    .dataframe tbody tr th {\n",
       "        vertical-align: top;\n",
       "    }\n",
       "\n",
       "    .dataframe thead th {\n",
       "        text-align: right;\n",
       "    }\n",
       "</style>\n",
       "<table border=\"1\" class=\"dataframe\">\n",
       "  <thead>\n",
       "    <tr style=\"text-align: right;\">\n",
       "      <th></th>\n",
       "      <th>1930s</th>\n",
       "      <th>adventure</th>\n",
       "      <th>album</th>\n",
       "      <th>art</th>\n",
       "      <th>arthur</th>\n",
       "      <th>artists</th>\n",
       "      <th>astrologer</th>\n",
       "      <th>astrologers</th>\n",
       "      <th>astrological</th>\n",
       "      <th>astrology</th>\n",
       "      <th>...</th>\n",
       "      <th>text</th>\n",
       "      <th>translation</th>\n",
       "      <th>une</th>\n",
       "      <th>verse</th>\n",
       "      <th>wojcik</th>\n",
       "      <th>woman</th>\n",
       "      <th>writer</th>\n",
       "      <th>writers</th>\n",
       "      <th>writing</th>\n",
       "      <th>writings</th>\n",
       "    </tr>\n",
       "    <tr>\n",
       "      <th>Name</th>\n",
       "      <th></th>\n",
       "      <th></th>\n",
       "      <th></th>\n",
       "      <th></th>\n",
       "      <th></th>\n",
       "      <th></th>\n",
       "      <th></th>\n",
       "      <th></th>\n",
       "      <th></th>\n",
       "      <th></th>\n",
       "      <th></th>\n",
       "      <th></th>\n",
       "      <th></th>\n",
       "      <th></th>\n",
       "      <th></th>\n",
       "      <th></th>\n",
       "      <th></th>\n",
       "      <th></th>\n",
       "      <th></th>\n",
       "      <th></th>\n",
       "      <th></th>\n",
       "    </tr>\n",
       "  </thead>\n",
       "  <tbody>\n",
       "    <tr>\n",
       "      <th>the triple thinkers</th>\n",
       "      <td>0.0</td>\n",
       "      <td>0.0</td>\n",
       "      <td>0.0</td>\n",
       "      <td>0.0</td>\n",
       "      <td>0.0</td>\n",
       "      <td>0.0</td>\n",
       "      <td>0.0</td>\n",
       "      <td>0.0</td>\n",
       "      <td>0.0</td>\n",
       "      <td>0.0</td>\n",
       "      <td>...</td>\n",
       "      <td>0.000000</td>\n",
       "      <td>0.0</td>\n",
       "      <td>0.0</td>\n",
       "      <td>0.0</td>\n",
       "      <td>0.0</td>\n",
       "      <td>0.0</td>\n",
       "      <td>0.0</td>\n",
       "      <td>0.0</td>\n",
       "      <td>0.0</td>\n",
       "      <td>0.476688</td>\n",
       "    </tr>\n",
       "    <tr>\n",
       "      <th>bath (chic simple) (chic simple components) (chic simple components)</th>\n",
       "      <td>0.0</td>\n",
       "      <td>0.0</td>\n",
       "      <td>0.0</td>\n",
       "      <td>0.0</td>\n",
       "      <td>0.0</td>\n",
       "      <td>0.0</td>\n",
       "      <td>0.0</td>\n",
       "      <td>0.0</td>\n",
       "      <td>0.0</td>\n",
       "      <td>0.0</td>\n",
       "      <td>...</td>\n",
       "      <td>0.410469</td>\n",
       "      <td>0.0</td>\n",
       "      <td>0.0</td>\n",
       "      <td>0.0</td>\n",
       "      <td>0.0</td>\n",
       "      <td>0.0</td>\n",
       "      <td>0.0</td>\n",
       "      <td>0.0</td>\n",
       "      <td>0.0</td>\n",
       "      <td>0.000000</td>\n",
       "    </tr>\n",
       "    <tr>\n",
       "      <th>further reflections on the revolution in france</th>\n",
       "      <td>0.0</td>\n",
       "      <td>0.0</td>\n",
       "      <td>0.0</td>\n",
       "      <td>0.0</td>\n",
       "      <td>0.0</td>\n",
       "      <td>0.0</td>\n",
       "      <td>0.0</td>\n",
       "      <td>0.0</td>\n",
       "      <td>0.0</td>\n",
       "      <td>0.0</td>\n",
       "      <td>...</td>\n",
       "      <td>0.000000</td>\n",
       "      <td>0.0</td>\n",
       "      <td>0.0</td>\n",
       "      <td>0.0</td>\n",
       "      <td>0.0</td>\n",
       "      <td>0.0</td>\n",
       "      <td>0.0</td>\n",
       "      <td>0.0</td>\n",
       "      <td>0.0</td>\n",
       "      <td>0.500000</td>\n",
       "    </tr>\n",
       "    <tr>\n",
       "      <th>select works of edmund burke: reflections on the revolution in france</th>\n",
       "      <td>0.0</td>\n",
       "      <td>0.0</td>\n",
       "      <td>0.0</td>\n",
       "      <td>0.0</td>\n",
       "      <td>0.0</td>\n",
       "      <td>0.0</td>\n",
       "      <td>0.0</td>\n",
       "      <td>0.0</td>\n",
       "      <td>0.0</td>\n",
       "      <td>0.0</td>\n",
       "      <td>...</td>\n",
       "      <td>0.000000</td>\n",
       "      <td>0.0</td>\n",
       "      <td>0.0</td>\n",
       "      <td>0.0</td>\n",
       "      <td>0.0</td>\n",
       "      <td>0.0</td>\n",
       "      <td>0.0</td>\n",
       "      <td>0.0</td>\n",
       "      <td>0.0</td>\n",
       "      <td>0.000000</td>\n",
       "    </tr>\n",
       "    <tr>\n",
       "      <th>classical budo</th>\n",
       "      <td>0.0</td>\n",
       "      <td>0.0</td>\n",
       "      <td>0.0</td>\n",
       "      <td>0.0</td>\n",
       "      <td>0.0</td>\n",
       "      <td>0.0</td>\n",
       "      <td>0.0</td>\n",
       "      <td>0.0</td>\n",
       "      <td>0.0</td>\n",
       "      <td>0.0</td>\n",
       "      <td>...</td>\n",
       "      <td>0.000000</td>\n",
       "      <td>0.0</td>\n",
       "      <td>0.0</td>\n",
       "      <td>0.0</td>\n",
       "      <td>0.0</td>\n",
       "      <td>0.0</td>\n",
       "      <td>0.0</td>\n",
       "      <td>0.0</td>\n",
       "      <td>0.0</td>\n",
       "      <td>0.000000</td>\n",
       "    </tr>\n",
       "  </tbody>\n",
       "</table>\n",
       "<p>5 rows × 103 columns</p>\n",
       "</div>"
      ],
      "text/plain": [
       "                                                    1930s  adventure  album  \\\n",
       "Name                                                                          \n",
       "the triple thinkers                                   0.0        0.0    0.0   \n",
       "bath (chic simple) (chic simple components) (ch...    0.0        0.0    0.0   \n",
       "further reflections on the revolution in france       0.0        0.0    0.0   \n",
       "select works of edmund burke: reflections on th...    0.0        0.0    0.0   \n",
       "classical budo                                        0.0        0.0    0.0   \n",
       "\n",
       "                                                    art  arthur  artists  \\\n",
       "Name                                                                       \n",
       "the triple thinkers                                 0.0     0.0      0.0   \n",
       "bath (chic simple) (chic simple components) (ch...  0.0     0.0      0.0   \n",
       "further reflections on the revolution in france     0.0     0.0      0.0   \n",
       "select works of edmund burke: reflections on th...  0.0     0.0      0.0   \n",
       "classical budo                                      0.0     0.0      0.0   \n",
       "\n",
       "                                                    astrologer  astrologers  \\\n",
       "Name                                                                          \n",
       "the triple thinkers                                        0.0          0.0   \n",
       "bath (chic simple) (chic simple components) (ch...         0.0          0.0   \n",
       "further reflections on the revolution in france            0.0          0.0   \n",
       "select works of edmund burke: reflections on th...         0.0          0.0   \n",
       "classical budo                                             0.0          0.0   \n",
       "\n",
       "                                                    astrological  astrology  \\\n",
       "Name                                                                          \n",
       "the triple thinkers                                          0.0        0.0   \n",
       "bath (chic simple) (chic simple components) (ch...           0.0        0.0   \n",
       "further reflections on the revolution in france              0.0        0.0   \n",
       "select works of edmund burke: reflections on th...           0.0        0.0   \n",
       "classical budo                                               0.0        0.0   \n",
       "\n",
       "                                                    ...      text  \\\n",
       "Name                                                ...             \n",
       "the triple thinkers                                 ...  0.000000   \n",
       "bath (chic simple) (chic simple components) (ch...  ...  0.410469   \n",
       "further reflections on the revolution in france     ...  0.000000   \n",
       "select works of edmund burke: reflections on th...  ...  0.000000   \n",
       "classical budo                                      ...  0.000000   \n",
       "\n",
       "                                                    translation  une  verse  \\\n",
       "Name                                                                          \n",
       "the triple thinkers                                         0.0  0.0    0.0   \n",
       "bath (chic simple) (chic simple components) (ch...          0.0  0.0    0.0   \n",
       "further reflections on the revolution in france             0.0  0.0    0.0   \n",
       "select works of edmund burke: reflections on th...          0.0  0.0    0.0   \n",
       "classical budo                                              0.0  0.0    0.0   \n",
       "\n",
       "                                                    wojcik  woman  writer  \\\n",
       "Name                                                                        \n",
       "the triple thinkers                                    0.0    0.0     0.0   \n",
       "bath (chic simple) (chic simple components) (ch...     0.0    0.0     0.0   \n",
       "further reflections on the revolution in france        0.0    0.0     0.0   \n",
       "select works of edmund burke: reflections on th...     0.0    0.0     0.0   \n",
       "classical budo                                         0.0    0.0     0.0   \n",
       "\n",
       "                                                    writers  writing  writings  \n",
       "Name                                                                            \n",
       "the triple thinkers                                     0.0      0.0  0.476688  \n",
       "bath (chic simple) (chic simple components) (ch...      0.0      0.0  0.000000  \n",
       "further reflections on the revolution in france         0.0      0.0  0.500000  \n",
       "select works of edmund burke: reflections on th...      0.0      0.0  0.000000  \n",
       "classical budo                                          0.0      0.0  0.000000  \n",
       "\n",
       "[5 rows x 103 columns]"
      ]
     },
     "execution_count": 115,
     "metadata": {},
     "output_type": "execute_result"
    }
   ],
   "source": [
    "# Find top 50 books with maximum tf-idf total score\n",
    "tfidf_df[\"total\"]= tfidf_df.sum(axis=1)\n",
    "tfidf_df = tfidf_df.sort_values(\"total\", ascending=False)\n",
    "del tfidf_df[\"total\"]\n",
    "tfidf_df.head()\n"
   ]
  },
  {
   "cell_type": "code",
   "execution_count": 116,
   "id": "3d7b6d01",
   "metadata": {},
   "outputs": [
    {
     "data": {
      "text/plain": [
       "500"
      ]
     },
     "execution_count": 116,
     "metadata": {},
     "output_type": "execute_result"
    }
   ],
   "source": [
    "len(tfidf_df)"
   ]
  },
  {
   "cell_type": "code",
   "execution_count": 117,
   "id": "f46ba6df",
   "metadata": {},
   "outputs": [
    {
     "data": {
      "text/html": [
       "<div>\n",
       "<style scoped>\n",
       "    .dataframe tbody tr th:only-of-type {\n",
       "        vertical-align: middle;\n",
       "    }\n",
       "\n",
       "    .dataframe tbody tr th {\n",
       "        vertical-align: top;\n",
       "    }\n",
       "\n",
       "    .dataframe thead th {\n",
       "        text-align: right;\n",
       "    }\n",
       "</style>\n",
       "<table border=\"1\" class=\"dataframe\">\n",
       "  <thead>\n",
       "    <tr style=\"text-align: right;\">\n",
       "      <th></th>\n",
       "      <th>book</th>\n",
       "      <th>term</th>\n",
       "      <th>tfidf</th>\n",
       "    </tr>\n",
       "  </thead>\n",
       "  <tbody>\n",
       "    <tr>\n",
       "      <th>0</th>\n",
       "      <td>the triple thinkers</td>\n",
       "      <td>1930s</td>\n",
       "      <td>0.0</td>\n",
       "    </tr>\n",
       "    <tr>\n",
       "      <th>1</th>\n",
       "      <td>the triple thinkers</td>\n",
       "      <td>adventure</td>\n",
       "      <td>0.0</td>\n",
       "    </tr>\n",
       "    <tr>\n",
       "      <th>2</th>\n",
       "      <td>the triple thinkers</td>\n",
       "      <td>album</td>\n",
       "      <td>0.0</td>\n",
       "    </tr>\n",
       "    <tr>\n",
       "      <th>3</th>\n",
       "      <td>the triple thinkers</td>\n",
       "      <td>art</td>\n",
       "      <td>0.0</td>\n",
       "    </tr>\n",
       "    <tr>\n",
       "      <th>4</th>\n",
       "      <td>the triple thinkers</td>\n",
       "      <td>arthur</td>\n",
       "      <td>0.0</td>\n",
       "    </tr>\n",
       "    <tr>\n",
       "      <th>...</th>\n",
       "      <td>...</td>\n",
       "      <td>...</td>\n",
       "      <td>...</td>\n",
       "    </tr>\n",
       "    <tr>\n",
       "      <th>5145</th>\n",
       "      <td>body(chic simple) (chic simple component) (chi...</td>\n",
       "      <td>woman</td>\n",
       "      <td>0.0</td>\n",
       "    </tr>\n",
       "    <tr>\n",
       "      <th>5146</th>\n",
       "      <td>body(chic simple) (chic simple component) (chi...</td>\n",
       "      <td>writer</td>\n",
       "      <td>0.0</td>\n",
       "    </tr>\n",
       "    <tr>\n",
       "      <th>5147</th>\n",
       "      <td>body(chic simple) (chic simple component) (chi...</td>\n",
       "      <td>writers</td>\n",
       "      <td>0.0</td>\n",
       "    </tr>\n",
       "    <tr>\n",
       "      <th>5148</th>\n",
       "      <td>body(chic simple) (chic simple component) (chi...</td>\n",
       "      <td>writing</td>\n",
       "      <td>0.0</td>\n",
       "    </tr>\n",
       "    <tr>\n",
       "      <th>5149</th>\n",
       "      <td>body(chic simple) (chic simple component) (chi...</td>\n",
       "      <td>writings</td>\n",
       "      <td>0.0</td>\n",
       "    </tr>\n",
       "  </tbody>\n",
       "</table>\n",
       "<p>5150 rows × 3 columns</p>\n",
       "</div>"
      ],
      "text/plain": [
       "                                                   book       term  tfidf\n",
       "0                                   the triple thinkers      1930s    0.0\n",
       "1                                   the triple thinkers  adventure    0.0\n",
       "2                                   the triple thinkers      album    0.0\n",
       "3                                   the triple thinkers        art    0.0\n",
       "4                                   the triple thinkers     arthur    0.0\n",
       "...                                                 ...        ...    ...\n",
       "5145  body(chic simple) (chic simple component) (chi...      woman    0.0\n",
       "5146  body(chic simple) (chic simple component) (chi...     writer    0.0\n",
       "5147  body(chic simple) (chic simple component) (chi...    writers    0.0\n",
       "5148  body(chic simple) (chic simple component) (chi...    writing    0.0\n",
       "5149  body(chic simple) (chic simple component) (chi...   writings    0.0\n",
       "\n",
       "[5150 rows x 3 columns]"
      ]
     },
     "execution_count": 117,
     "metadata": {},
     "output_type": "execute_result"
    }
   ],
   "source": [
    "# Leave first few words containing years and select top 50 books\n",
    "tfidf_df_preview = tfidf_df.iloc[:50].copy()\n",
    "tfidf_df_preview = tfidf_df_preview.stack().reset_index()\n",
    "tfidf_df_preview = tfidf_df_preview.rename(columns={0:'tfidf', 'Name': 'book','level_1': 'term'})\n",
    "\n",
    "tfidf_df_preview"
   ]
  },
  {
   "cell_type": "code",
   "execution_count": 118,
   "id": "a745ecc2-de07-4066-985e-f550ea90e192",
   "metadata": {},
   "outputs": [
    {
     "data": {
      "text/html": [
       "<div>\n",
       "<style scoped>\n",
       "    .dataframe tbody tr th:only-of-type {\n",
       "        vertical-align: middle;\n",
       "    }\n",
       "\n",
       "    .dataframe tbody tr th {\n",
       "        vertical-align: top;\n",
       "    }\n",
       "\n",
       "    .dataframe thead th {\n",
       "        text-align: right;\n",
       "    }\n",
       "</style>\n",
       "<table border=\"1\" class=\"dataframe\">\n",
       "  <thead>\n",
       "    <tr style=\"text-align: right;\">\n",
       "      <th></th>\n",
       "      <th>book</th>\n",
       "      <th>term</th>\n",
       "      <th>tfidf</th>\n",
       "    </tr>\n",
       "  </thead>\n",
       "  <tbody>\n",
       "    <tr>\n",
       "      <th>1969</th>\n",
       "      <td>always a body to trade</td>\n",
       "      <td>balzic</td>\n",
       "      <td>0.57735</td>\n",
       "    </tr>\n",
       "    <tr>\n",
       "      <th>2016</th>\n",
       "      <td>always a body to trade</td>\n",
       "      <td>murder</td>\n",
       "      <td>0.57735</td>\n",
       "    </tr>\n",
       "    <tr>\n",
       "      <th>2031</th>\n",
       "      <td>always a body to trade</td>\n",
       "      <td>police</td>\n",
       "      <td>0.57735</td>\n",
       "    </tr>\n",
       "    <tr>\n",
       "      <th>1957</th>\n",
       "      <td>always a body to trade</td>\n",
       "      <td>1930s</td>\n",
       "      <td>0.00000</td>\n",
       "    </tr>\n",
       "    <tr>\n",
       "      <th>1958</th>\n",
       "      <td>always a body to trade</td>\n",
       "      <td>adventure</td>\n",
       "      <td>0.00000</td>\n",
       "    </tr>\n",
       "    <tr>\n",
       "      <th>...</th>\n",
       "      <td>...</td>\n",
       "      <td>...</td>\n",
       "      <td>...</td>\n",
       "    </tr>\n",
       "    <tr>\n",
       "      <th>1134</th>\n",
       "      <td>wild galaxy: selected science fiction stories</td>\n",
       "      <td>adventure</td>\n",
       "      <td>0.00000</td>\n",
       "    </tr>\n",
       "    <tr>\n",
       "      <th>1135</th>\n",
       "      <td>wild galaxy: selected science fiction stories</td>\n",
       "      <td>album</td>\n",
       "      <td>0.00000</td>\n",
       "    </tr>\n",
       "    <tr>\n",
       "      <th>1136</th>\n",
       "      <td>wild galaxy: selected science fiction stories</td>\n",
       "      <td>art</td>\n",
       "      <td>0.00000</td>\n",
       "    </tr>\n",
       "    <tr>\n",
       "      <th>1137</th>\n",
       "      <td>wild galaxy: selected science fiction stories</td>\n",
       "      <td>arthur</td>\n",
       "      <td>0.00000</td>\n",
       "    </tr>\n",
       "    <tr>\n",
       "      <th>1138</th>\n",
       "      <td>wild galaxy: selected science fiction stories</td>\n",
       "      <td>artists</td>\n",
       "      <td>0.00000</td>\n",
       "    </tr>\n",
       "  </tbody>\n",
       "</table>\n",
       "<p>500 rows × 3 columns</p>\n",
       "</div>"
      ],
      "text/plain": [
       "                                               book       term    tfidf\n",
       "1969                         always a body to trade     balzic  0.57735\n",
       "2016                         always a body to trade     murder  0.57735\n",
       "2031                         always a body to trade     police  0.57735\n",
       "1957                         always a body to trade      1930s  0.00000\n",
       "1958                         always a body to trade  adventure  0.00000\n",
       "...                                             ...        ...      ...\n",
       "1134  wild galaxy: selected science fiction stories  adventure  0.00000\n",
       "1135  wild galaxy: selected science fiction stories      album  0.00000\n",
       "1136  wild galaxy: selected science fiction stories        art  0.00000\n",
       "1137  wild galaxy: selected science fiction stories     arthur  0.00000\n",
       "1138  wild galaxy: selected science fiction stories    artists  0.00000\n",
       "\n",
       "[500 rows x 3 columns]"
      ]
     },
     "metadata": {},
     "output_type": "display_data"
    }
   ],
   "source": [
    "\n",
    "tfidf_df_preview = tfidf_df_preview.sort_values(by=['book','tfidf'], ascending=[True,False]).groupby(['book']).head(10)\n",
    "display(tfidf_df_preview)"
   ]
  },
  {
   "cell_type": "code",
   "execution_count": 119,
   "id": "b2dfaa38-ed26-49d2-af0a-69faae9c2413",
   "metadata": {},
   "outputs": [
    {
     "data": {
      "text/html": [
       "<div>\n",
       "<style scoped>\n",
       "    .dataframe tbody tr th:only-of-type {\n",
       "        vertical-align: middle;\n",
       "    }\n",
       "\n",
       "    .dataframe tbody tr th {\n",
       "        vertical-align: top;\n",
       "    }\n",
       "\n",
       "    .dataframe thead th {\n",
       "        text-align: right;\n",
       "    }\n",
       "</style>\n",
       "<table border=\"1\" class=\"dataframe\">\n",
       "  <thead>\n",
       "    <tr style=\"text-align: right;\">\n",
       "      <th></th>\n",
       "      <th>book</th>\n",
       "      <th>term</th>\n",
       "      <th>tfidf</th>\n",
       "    </tr>\n",
       "  </thead>\n",
       "  <tbody>\n",
       "    <tr>\n",
       "      <th>2599</th>\n",
       "      <td>stepping stones of the steward: a faith journe...</td>\n",
       "      <td>church</td>\n",
       "      <td>0.562335</td>\n",
       "    </tr>\n",
       "    <tr>\n",
       "      <th>2702</th>\n",
       "      <td>the psalms: new catholic version</td>\n",
       "      <td>church</td>\n",
       "      <td>0.569694</td>\n",
       "    </tr>\n",
       "  </tbody>\n",
       "</table>\n",
       "</div>"
      ],
      "text/plain": [
       "                                                   book    term     tfidf\n",
       "2599  stepping stones of the steward: a faith journe...  church  0.562335\n",
       "2702                   the psalms: new catholic version  church  0.569694"
      ]
     },
     "execution_count": 119,
     "metadata": {},
     "output_type": "execute_result"
    }
   ],
   "source": [
    "# Find books with term \"london\"\n",
    "tfidf_df_preview[tfidf_df_preview['term'].str.contains('church')]"
   ]
  },
  {
   "cell_type": "code",
   "execution_count": 120,
   "id": "bdfe03d8-e74c-42fb-9ac8-48b8d8dc5b29",
   "metadata": {},
   "outputs": [
    {
     "data": {
      "text/html": [
       "<div>\n",
       "<style scoped>\n",
       "    .dataframe tbody tr th:only-of-type {\n",
       "        vertical-align: middle;\n",
       "    }\n",
       "\n",
       "    .dataframe tbody tr th {\n",
       "        vertical-align: top;\n",
       "    }\n",
       "\n",
       "    .dataframe thead th {\n",
       "        text-align: right;\n",
       "    }\n",
       "</style>\n",
       "<table border=\"1\" class=\"dataframe\">\n",
       "  <thead>\n",
       "    <tr style=\"text-align: right;\">\n",
       "      <th></th>\n",
       "      <th>book</th>\n",
       "      <th>term</th>\n",
       "      <th>tfidf</th>\n",
       "    </tr>\n",
       "  </thead>\n",
       "  <tbody>\n",
       "  </tbody>\n",
       "</table>\n",
       "</div>"
      ],
      "text/plain": [
       "Empty DataFrame\n",
       "Columns: [book, term, tfidf]\n",
       "Index: []"
      ]
     },
     "execution_count": 120,
     "metadata": {},
     "output_type": "execute_result"
    }
   ],
   "source": [
    "# Find book names with word mystery\n",
    "tfidf_df_preview[tfidf_df_preview['book'].str.contains('coast')].head(5)"
   ]
  },
  {
   "cell_type": "code",
   "execution_count": 121,
   "id": "de67c657-bcf6-475a-afd7-86460b465428",
   "metadata": {},
   "outputs": [
    {
     "data": {
      "text/html": [
       "<div>\n",
       "<style scoped>\n",
       "    .dataframe tbody tr th:only-of-type {\n",
       "        vertical-align: middle;\n",
       "    }\n",
       "\n",
       "    .dataframe tbody tr th {\n",
       "        vertical-align: top;\n",
       "    }\n",
       "\n",
       "    .dataframe thead th {\n",
       "        text-align: right;\n",
       "    }\n",
       "</style>\n",
       "<table border=\"1\" class=\"dataframe\">\n",
       "  <thead>\n",
       "    <tr style=\"text-align: right;\">\n",
       "      <th></th>\n",
       "      <th>book</th>\n",
       "      <th>term</th>\n",
       "      <th>tfidf</th>\n",
       "    </tr>\n",
       "  </thead>\n",
       "  <tbody>\n",
       "    <tr>\n",
       "      <th>1969</th>\n",
       "      <td>always a body to trade</td>\n",
       "      <td>balzic</td>\n",
       "      <td>0.577350</td>\n",
       "    </tr>\n",
       "    <tr>\n",
       "      <th>2016</th>\n",
       "      <td>always a body to trade</td>\n",
       "      <td>murder</td>\n",
       "      <td>0.577350</td>\n",
       "    </tr>\n",
       "    <tr>\n",
       "      <th>2031</th>\n",
       "      <td>always a body to trade</td>\n",
       "      <td>police</td>\n",
       "      <td>0.577350</td>\n",
       "    </tr>\n",
       "    <tr>\n",
       "      <th>2381</th>\n",
       "      <td>always a body to trade (mario balzic detective...</td>\n",
       "      <td>balzic</td>\n",
       "      <td>0.577350</td>\n",
       "    </tr>\n",
       "    <tr>\n",
       "      <th>2428</th>\n",
       "      <td>always a body to trade (mario balzic detective...</td>\n",
       "      <td>murder</td>\n",
       "      <td>0.577350</td>\n",
       "    </tr>\n",
       "    <tr>\n",
       "      <th>2443</th>\n",
       "      <td>always a body to trade (mario balzic detective...</td>\n",
       "      <td>police</td>\n",
       "      <td>0.577350</td>\n",
       "    </tr>\n",
       "    <tr>\n",
       "      <th>3589</th>\n",
       "      <td>an outside chance: classic &amp; new essays on sport</td>\n",
       "      <td>sporting</td>\n",
       "      <td>0.610506</td>\n",
       "    </tr>\n",
       "    <tr>\n",
       "      <th>3503</th>\n",
       "      <td>an outside chance: classic &amp; new essays on sport</td>\n",
       "      <td>adventure</td>\n",
       "      <td>0.568049</td>\n",
       "    </tr>\n",
       "    <tr>\n",
       "      <th>3577</th>\n",
       "      <td>an outside chance: classic &amp; new essays on sport</td>\n",
       "      <td>published</td>\n",
       "      <td>0.551908</td>\n",
       "    </tr>\n",
       "    <tr>\n",
       "      <th>3692</th>\n",
       "      <td>an outside chance: essays on sport</td>\n",
       "      <td>sporting</td>\n",
       "      <td>0.610506</td>\n",
       "    </tr>\n",
       "    <tr>\n",
       "      <th>3606</th>\n",
       "      <td>an outside chance: essays on sport</td>\n",
       "      <td>adventure</td>\n",
       "      <td>0.568049</td>\n",
       "    </tr>\n",
       "    <tr>\n",
       "      <th>3680</th>\n",
       "      <td>an outside chance: essays on sport</td>\n",
       "      <td>published</td>\n",
       "      <td>0.551908</td>\n",
       "    </tr>\n",
       "    <tr>\n",
       "      <th>3200</th>\n",
       "      <td>astrology of intimacy, sexuality &amp; relationshi...</td>\n",
       "      <td>astrologers</td>\n",
       "      <td>0.600256</td>\n",
       "    </tr>\n",
       "    <tr>\n",
       "      <th>3199</th>\n",
       "      <td>astrology of intimacy, sexuality &amp; relationshi...</td>\n",
       "      <td>astrologer</td>\n",
       "      <td>0.580738</td>\n",
       "    </tr>\n",
       "    <tr>\n",
       "      <th>3201</th>\n",
       "      <td>astrology of intimacy, sexuality &amp; relationshi...</td>\n",
       "      <td>astrological</td>\n",
       "      <td>0.549941</td>\n",
       "    </tr>\n",
       "    <tr>\n",
       "      <th>149</th>\n",
       "      <td>bath (chic simple) (chic simple components) (c...</td>\n",
       "      <td>judith</td>\n",
       "      <td>0.487007</td>\n",
       "    </tr>\n",
       "    <tr>\n",
       "      <th>163</th>\n",
       "      <td>bath (chic simple) (chic simple components) (c...</td>\n",
       "      <td>newman</td>\n",
       "      <td>0.487007</td>\n",
       "    </tr>\n",
       "    <tr>\n",
       "      <th>158</th>\n",
       "      <td>bath (chic simple) (chic simple components) (c...</td>\n",
       "      <td>maria</td>\n",
       "      <td>0.468367</td>\n",
       "    </tr>\n",
       "    <tr>\n",
       "      <th>196</th>\n",
       "      <td>bath (chic simple) (chic simple components) (c...</td>\n",
       "      <td>text</td>\n",
       "      <td>0.410469</td>\n",
       "    </tr>\n",
       "    <tr>\n",
       "      <th>170</th>\n",
       "      <td>bath (chic simple) (chic simple components) (c...</td>\n",
       "      <td>photographs</td>\n",
       "      <td>0.371209</td>\n",
       "    </tr>\n",
       "    <tr>\n",
       "      <th>4690</th>\n",
       "      <td>bed linens (chic simple components): head to t...</td>\n",
       "      <td>maria</td>\n",
       "      <td>0.646009</td>\n",
       "    </tr>\n",
       "    <tr>\n",
       "      <th>4728</th>\n",
       "      <td>bed linens (chic simple components): head to t...</td>\n",
       "      <td>text</td>\n",
       "      <td>0.566151</td>\n",
       "    </tr>\n",
       "    <tr>\n",
       "      <th>4702</th>\n",
       "      <td>bed linens (chic simple components): head to t...</td>\n",
       "      <td>photographs</td>\n",
       "      <td>0.512001</td>\n",
       "    </tr>\n",
       "    <tr>\n",
       "      <th>5093</th>\n",
       "      <td>body(chic simple) (chic simple component) (chi...</td>\n",
       "      <td>judith</td>\n",
       "      <td>0.622454</td>\n",
       "    </tr>\n",
       "    <tr>\n",
       "      <th>5107</th>\n",
       "      <td>body(chic simple) (chic simple component) (chi...</td>\n",
       "      <td>newman</td>\n",
       "      <td>0.622454</td>\n",
       "    </tr>\n",
       "    <tr>\n",
       "      <th>5114</th>\n",
       "      <td>body(chic simple) (chic simple component) (chi...</td>\n",
       "      <td>photographs</td>\n",
       "      <td>0.474450</td>\n",
       "    </tr>\n",
       "    <tr>\n",
       "      <th>4233</th>\n",
       "      <td>bright hunger</td>\n",
       "      <td>author</td>\n",
       "      <td>0.620688</td>\n",
       "    </tr>\n",
       "    <tr>\n",
       "      <th>4275</th>\n",
       "      <td>bright hunger</td>\n",
       "      <td>literary</td>\n",
       "      <td>0.583442</td>\n",
       "    </tr>\n",
       "    <tr>\n",
       "      <th>4294</th>\n",
       "      <td>bright hunger</td>\n",
       "      <td>poetry</td>\n",
       "      <td>0.523777</td>\n",
       "    </tr>\n",
       "    <tr>\n",
       "      <th>2077</th>\n",
       "      <td>budo mind and body: training secrets of the ja...</td>\n",
       "      <td>budo</td>\n",
       "      <td>0.577350</td>\n",
       "    </tr>\n",
       "    <tr>\n",
       "      <th>2107</th>\n",
       "      <td>budo mind and body: training secrets of the ja...</td>\n",
       "      <td>judo</td>\n",
       "      <td>0.577350</td>\n",
       "    </tr>\n",
       "    <tr>\n",
       "      <th>2116</th>\n",
       "      <td>budo mind and body: training secrets of the ja...</td>\n",
       "      <td>martial</td>\n",
       "      <td>0.577350</td>\n",
       "    </tr>\n",
       "    <tr>\n",
       "      <th>1871</th>\n",
       "      <td>budo secrets: teachings of the martial arts ma...</td>\n",
       "      <td>budo</td>\n",
       "      <td>0.577350</td>\n",
       "    </tr>\n",
       "    <tr>\n",
       "      <th>1901</th>\n",
       "      <td>budo secrets: teachings of the martial arts ma...</td>\n",
       "      <td>judo</td>\n",
       "      <td>0.577350</td>\n",
       "    </tr>\n",
       "    <tr>\n",
       "      <th>1910</th>\n",
       "      <td>budo secrets: teachings of the martial arts ma...</td>\n",
       "      <td>martial</td>\n",
       "      <td>0.577350</td>\n",
       "    </tr>\n",
       "    <tr>\n",
       "      <th>428</th>\n",
       "      <td>classical budo</td>\n",
       "      <td>buddhism</td>\n",
       "      <td>0.500000</td>\n",
       "    </tr>\n",
       "    <tr>\n",
       "      <th>429</th>\n",
       "      <td>classical budo</td>\n",
       "      <td>budo</td>\n",
       "      <td>0.500000</td>\n",
       "    </tr>\n",
       "    <tr>\n",
       "      <th>459</th>\n",
       "      <td>classical budo</td>\n",
       "      <td>judo</td>\n",
       "      <td>0.500000</td>\n",
       "    </tr>\n",
       "    <tr>\n",
       "      <th>468</th>\n",
       "      <td>classical budo</td>\n",
       "      <td>martial</td>\n",
       "      <td>0.500000</td>\n",
       "    </tr>\n",
       "    <tr>\n",
       "      <th>3991</th>\n",
       "      <td>cooking (chic simple)</td>\n",
       "      <td>recipes</td>\n",
       "      <td>0.612752</td>\n",
       "    </tr>\n",
       "    <tr>\n",
       "      <th>4007</th>\n",
       "      <td>cooking (chic simple)</td>\n",
       "      <td>text</td>\n",
       "      <td>0.586136</td>\n",
       "    </tr>\n",
       "    <tr>\n",
       "      <th>3981</th>\n",
       "      <td>cooking (chic simple)</td>\n",
       "      <td>photographs</td>\n",
       "      <td>0.530075</td>\n",
       "    </tr>\n",
       "    <tr>\n",
       "      <th>2914</th>\n",
       "      <td>edward and the pirates</td>\n",
       "      <td>edward</td>\n",
       "      <td>0.598613</td>\n",
       "    </tr>\n",
       "    <tr>\n",
       "      <th>2960</th>\n",
       "      <td>edward and the pirates</td>\n",
       "      <td>reading</td>\n",
       "      <td>0.575702</td>\n",
       "    </tr>\n",
       "    <tr>\n",
       "      <th>2885</th>\n",
       "      <td>edward and the pirates</td>\n",
       "      <td>adventure</td>\n",
       "      <td>0.556983</td>\n",
       "    </tr>\n",
       "    <tr>\n",
       "      <th>3077</th>\n",
       "      <td>essex county, vol. 2: ghost stories</td>\n",
       "      <td>tale</td>\n",
       "      <td>0.600176</td>\n",
       "    </tr>\n",
       "    <tr>\n",
       "      <th>3049</th>\n",
       "      <td>essex county, vol. 2: ghost stories</td>\n",
       "      <td>novels</td>\n",
       "      <td>0.571559</td>\n",
       "    </tr>\n",
       "    <tr>\n",
       "      <th>3076</th>\n",
       "      <td>essex county, vol. 2: ghost stories</td>\n",
       "      <td>stories</td>\n",
       "      <td>0.559561</td>\n",
       "    </tr>\n",
       "    <tr>\n",
       "      <th>4336</th>\n",
       "      <td>even as we speak: new essays, 1993-2000</td>\n",
       "      <td>author</td>\n",
       "      <td>0.607220</td>\n",
       "    </tr>\n",
       "    <tr>\n",
       "      <th>4337</th>\n",
       "      <td>even as we speak: new essays, 1993-2000</td>\n",
       "      <td>authors</td>\n",
       "      <td>0.607220</td>\n",
       "    </tr>\n",
       "  </tbody>\n",
       "</table>\n",
       "</div>"
      ],
      "text/plain": [
       "                                                   book          term  \\\n",
       "1969                             always a body to trade        balzic   \n",
       "2016                             always a body to trade        murder   \n",
       "2031                             always a body to trade        police   \n",
       "2381  always a body to trade (mario balzic detective...        balzic   \n",
       "2428  always a body to trade (mario balzic detective...        murder   \n",
       "2443  always a body to trade (mario balzic detective...        police   \n",
       "3589   an outside chance: classic & new essays on sport      sporting   \n",
       "3503   an outside chance: classic & new essays on sport     adventure   \n",
       "3577   an outside chance: classic & new essays on sport     published   \n",
       "3692                 an outside chance: essays on sport      sporting   \n",
       "3606                 an outside chance: essays on sport     adventure   \n",
       "3680                 an outside chance: essays on sport     published   \n",
       "3200  astrology of intimacy, sexuality & relationshi...   astrologers   \n",
       "3199  astrology of intimacy, sexuality & relationshi...    astrologer   \n",
       "3201  astrology of intimacy, sexuality & relationshi...  astrological   \n",
       "149   bath (chic simple) (chic simple components) (c...        judith   \n",
       "163   bath (chic simple) (chic simple components) (c...        newman   \n",
       "158   bath (chic simple) (chic simple components) (c...         maria   \n",
       "196   bath (chic simple) (chic simple components) (c...          text   \n",
       "170   bath (chic simple) (chic simple components) (c...   photographs   \n",
       "4690  bed linens (chic simple components): head to t...         maria   \n",
       "4728  bed linens (chic simple components): head to t...          text   \n",
       "4702  bed linens (chic simple components): head to t...   photographs   \n",
       "5093  body(chic simple) (chic simple component) (chi...        judith   \n",
       "5107  body(chic simple) (chic simple component) (chi...        newman   \n",
       "5114  body(chic simple) (chic simple component) (chi...   photographs   \n",
       "4233                                      bright hunger        author   \n",
       "4275                                      bright hunger      literary   \n",
       "4294                                      bright hunger        poetry   \n",
       "2077  budo mind and body: training secrets of the ja...          budo   \n",
       "2107  budo mind and body: training secrets of the ja...          judo   \n",
       "2116  budo mind and body: training secrets of the ja...       martial   \n",
       "1871  budo secrets: teachings of the martial arts ma...          budo   \n",
       "1901  budo secrets: teachings of the martial arts ma...          judo   \n",
       "1910  budo secrets: teachings of the martial arts ma...       martial   \n",
       "428                                      classical budo      buddhism   \n",
       "429                                      classical budo          budo   \n",
       "459                                      classical budo          judo   \n",
       "468                                      classical budo       martial   \n",
       "3991                              cooking (chic simple)       recipes   \n",
       "4007                              cooking (chic simple)          text   \n",
       "3981                              cooking (chic simple)   photographs   \n",
       "2914                             edward and the pirates        edward   \n",
       "2960                             edward and the pirates       reading   \n",
       "2885                             edward and the pirates     adventure   \n",
       "3077                essex county, vol. 2: ghost stories          tale   \n",
       "3049                essex county, vol. 2: ghost stories        novels   \n",
       "3076                essex county, vol. 2: ghost stories       stories   \n",
       "4336            even as we speak: new essays, 1993-2000        author   \n",
       "4337            even as we speak: new essays, 1993-2000       authors   \n",
       "\n",
       "         tfidf  \n",
       "1969  0.577350  \n",
       "2016  0.577350  \n",
       "2031  0.577350  \n",
       "2381  0.577350  \n",
       "2428  0.577350  \n",
       "2443  0.577350  \n",
       "3589  0.610506  \n",
       "3503  0.568049  \n",
       "3577  0.551908  \n",
       "3692  0.610506  \n",
       "3606  0.568049  \n",
       "3680  0.551908  \n",
       "3200  0.600256  \n",
       "3199  0.580738  \n",
       "3201  0.549941  \n",
       "149   0.487007  \n",
       "163   0.487007  \n",
       "158   0.468367  \n",
       "196   0.410469  \n",
       "170   0.371209  \n",
       "4690  0.646009  \n",
       "4728  0.566151  \n",
       "4702  0.512001  \n",
       "5093  0.622454  \n",
       "5107  0.622454  \n",
       "5114  0.474450  \n",
       "4233  0.620688  \n",
       "4275  0.583442  \n",
       "4294  0.523777  \n",
       "2077  0.577350  \n",
       "2107  0.577350  \n",
       "2116  0.577350  \n",
       "1871  0.577350  \n",
       "1901  0.577350  \n",
       "1910  0.577350  \n",
       "428   0.500000  \n",
       "429   0.500000  \n",
       "459   0.500000  \n",
       "468   0.500000  \n",
       "3991  0.612752  \n",
       "4007  0.586136  \n",
       "3981  0.530075  \n",
       "2914  0.598613  \n",
       "2960  0.575702  \n",
       "2885  0.556983  \n",
       "3077  0.600176  \n",
       "3049  0.571559  \n",
       "3076  0.559561  \n",
       "4336  0.607220  \n",
       "4337  0.607220  "
      ]
     },
     "execution_count": 121,
     "metadata": {},
     "output_type": "execute_result"
    }
   ],
   "source": [
    "def process_word_matrix(word_vec):\n",
    "    # Remove underscores in terms\n",
    "    word_vec.term = word_vec.term.str.replace('_',' ')\n",
    "\n",
    "    # Remove terms with zero tfidf score\n",
    "    word_vec = word_vec[word_vec.tfidf > 0]\n",
    "    \n",
    "    return word_vec\n",
    "\n",
    "tfidf_vec = process_word_matrix(tfidf_df_preview.copy())    \n",
    "tfidf_vec.iloc[0:50]"
   ]
  },
  {
   "cell_type": "markdown",
   "id": "32fba63d-2d7e-4301-8e27-93abf0d1fa8b",
   "metadata": {},
   "source": [
    "- For each book, we will rank its terms based on its tf-idf score. Term with maximum score within the document will get rank 1.\n",
    "- Two or more terms may have same tf-idf score, such terms will overlap in the heatmap."
   ]
  },
  {
   "cell_type": "code",
   "execution_count": 122,
   "id": "71905a0a-3d01-4ff9-862b-5f5fa42ff5e6",
   "metadata": {},
   "outputs": [
    {
     "data": {
      "application/vnd.vegalite.v5+json": {
       "$schema": "https://vega.github.io/schema/vega-lite/v5.17.0.json",
       "config": {
        "view": {
         "continuousHeight": 300,
         "continuousWidth": 300
        }
       },
       "data": {
        "name": "data-6958d3001dd1ff6930aca5588fb7a79e"
       },
       "datasets": {
        "data-6958d3001dd1ff6930aca5588fb7a79e": [
         {
          "book": "always a body to trade",
          "term": "balzic",
          "tfidf": 0.5773502691896257
         },
         {
          "book": "always a body to trade",
          "term": "murder",
          "tfidf": 0.5773502691896257
         },
         {
          "book": "always a body to trade",
          "term": "police",
          "tfidf": 0.5773502691896257
         },
         {
          "book": "always a body to trade (mario balzic detective mystery #6)",
          "term": "balzic",
          "tfidf": 0.5773502691896257
         },
         {
          "book": "always a body to trade (mario balzic detective mystery #6)",
          "term": "murder",
          "tfidf": 0.5773502691896257
         },
         {
          "book": "always a body to trade (mario balzic detective mystery #6)",
          "term": "police",
          "tfidf": 0.5773502691896257
         },
         {
          "book": "an outside chance: classic & new essays on sport",
          "term": "sporting",
          "tfidf": 0.6105064183310631
         },
         {
          "book": "an outside chance: classic & new essays on sport",
          "term": "adventure",
          "tfidf": 0.5680491601346396
         },
         {
          "book": "an outside chance: classic & new essays on sport",
          "term": "published",
          "tfidf": 0.5519076597103066
         },
         {
          "book": "an outside chance: essays on sport",
          "term": "sporting",
          "tfidf": 0.6105064183310631
         },
         {
          "book": "an outside chance: essays on sport",
          "term": "adventure",
          "tfidf": 0.5680491601346396
         },
         {
          "book": "an outside chance: essays on sport",
          "term": "published",
          "tfidf": 0.5519076597103066
         },
         {
          "book": "astrology of intimacy, sexuality & relationship: insights to wholeness",
          "term": "astrologers",
          "tfidf": 0.6002561059357132
         },
         {
          "book": "astrology of intimacy, sexuality & relationship: insights to wholeness",
          "term": "astrologer",
          "tfidf": 0.5807382987240821
         },
         {
          "book": "astrology of intimacy, sexuality & relationship: insights to wholeness",
          "term": "astrological",
          "tfidf": 0.549941483870741
         },
         {
          "book": "bath (chic simple) (chic simple components) (chic simple components)",
          "term": "judith",
          "tfidf": 0.48700665409882055
         },
         {
          "book": "bath (chic simple) (chic simple components) (chic simple components)",
          "term": "newman",
          "tfidf": 0.48700665409882055
         },
         {
          "book": "bath (chic simple) (chic simple components) (chic simple components)",
          "term": "maria",
          "tfidf": 0.4683674459130307
         },
         {
          "book": "bath (chic simple) (chic simple components) (chic simple components)",
          "term": "text",
          "tfidf": 0.4104687769810401
         },
         {
          "book": "bath (chic simple) (chic simple components) (chic simple components)",
          "term": "photographs",
          "tfidf": 0.37120931623483944
         },
         {
          "book": "bed linens (chic simple components): head to toe (chic simple components)",
          "term": "maria",
          "tfidf": 0.6460092919443186
         },
         {
          "book": "bed linens (chic simple components): head to toe (chic simple components)",
          "term": "text",
          "tfidf": 0.5661508849443176
         },
         {
          "book": "bed linens (chic simple components): head to toe (chic simple components)",
          "term": "photographs",
          "tfidf": 0.5120011427705666
         },
         {
          "book": "body(chic simple) (chic simple component) (chic simple component)",
          "term": "judith",
          "tfidf": 0.6224535086894523
         },
         {
          "book": "body(chic simple) (chic simple component) (chic simple component)",
          "term": "newman",
          "tfidf": 0.6224535086894523
         },
         {
          "book": "body(chic simple) (chic simple component) (chic simple component)",
          "term": "photographs",
          "tfidf": 0.4744504811256702
         },
         {
          "book": "bright hunger",
          "term": "author",
          "tfidf": 0.6206876295594611
         },
         {
          "book": "bright hunger",
          "term": "literary",
          "tfidf": 0.5834417064955332
         },
         {
          "book": "bright hunger",
          "term": "poetry",
          "tfidf": 0.5237772824716986
         },
         {
          "book": "budo mind and body: training secrets of the japanese martial arts",
          "term": "budo",
          "tfidf": 0.5773502691896257
         },
         {
          "book": "budo mind and body: training secrets of the japanese martial arts",
          "term": "judo",
          "tfidf": 0.5773502691896257
         },
         {
          "book": "budo mind and body: training secrets of the japanese martial arts",
          "term": "martial",
          "tfidf": 0.5773502691896257
         },
         {
          "book": "budo secrets: teachings of the martial arts masters",
          "term": "budo",
          "tfidf": 0.5773502691896257
         },
         {
          "book": "budo secrets: teachings of the martial arts masters",
          "term": "judo",
          "tfidf": 0.5773502691896257
         },
         {
          "book": "budo secrets: teachings of the martial arts masters",
          "term": "martial",
          "tfidf": 0.5773502691896257
         },
         {
          "book": "classical budo",
          "term": "buddhism",
          "tfidf": 0.5
         },
         {
          "book": "classical budo",
          "term": "budo",
          "tfidf": 0.5
         },
         {
          "book": "classical budo",
          "term": "judo",
          "tfidf": 0.5
         },
         {
          "book": "classical budo",
          "term": "martial",
          "tfidf": 0.5
         },
         {
          "book": "cooking (chic simple)",
          "term": "recipes",
          "tfidf": 0.6127522078257268
         },
         {
          "book": "cooking (chic simple)",
          "term": "text",
          "tfidf": 0.586136026438364
         },
         {
          "book": "cooking (chic simple)",
          "term": "photographs",
          "tfidf": 0.5300747969067597
         },
         {
          "book": "edward and the pirates",
          "term": "edward",
          "tfidf": 0.5986128357229281
         },
         {
          "book": "edward and the pirates",
          "term": "reading",
          "tfidf": 0.5757021235718337
         },
         {
          "book": "edward and the pirates",
          "term": "adventure",
          "tfidf": 0.5569827087285885
         },
         {
          "book": "essex county, vol. 2: ghost stories",
          "term": "tale",
          "tfidf": 0.6001761594071765
         },
         {
          "book": "essex county, vol. 2: ghost stories",
          "term": "novels",
          "tfidf": 0.5715588895547646
         },
         {
          "book": "essex county, vol. 2: ghost stories",
          "term": "stories",
          "tfidf": 0.5595614474301958
         },
         {
          "book": "even as we speak: new essays, 1993-2000",
          "term": "author",
          "tfidf": 0.6072203854835
         },
         {
          "book": "even as we speak: new essays, 1993-2000",
          "term": "authors",
          "tfidf": 0.6072203854835
         },
         {
          "book": "even as we speak: new essays, 1993-2000",
          "term": "poetry",
          "tfidf": 0.5124127310152816
         },
         {
          "book": "eyeglasses (chic simple): face to face (chic simple component series)",
          "term": "wojcik",
          "tfidf": 0.6606212198553499
         },
         {
          "book": "eyeglasses (chic simple): face to face (chic simple component series)",
          "term": "text",
          "tfidf": 0.5567981091829707
         },
         {
          "book": "eyeglasses (chic simple): face to face (chic simple component series)",
          "term": "photographs",
          "tfidf": 0.5035429172246374
         },
         {
          "book": "family values: a mario balzic novel",
          "term": "balzic",
          "tfidf": 0.5773502691896257
         },
         {
          "book": "family values: a mario balzic novel",
          "term": "murder",
          "tfidf": 0.5773502691896257
         },
         {
          "book": "family values: a mario balzic novel",
          "term": "police",
          "tfidf": 0.5773502691896257
         },
         {
          "book": "further reflections on the revolution in france",
          "term": "burke",
          "tfidf": 0.5
         },
         {
          "book": "further reflections on the revolution in france",
          "term": "revolution",
          "tfidf": 0.5
         },
         {
          "book": "further reflections on the revolution in france",
          "term": "revolutionary",
          "tfidf": 0.5
         },
         {
          "book": "further reflections on the revolution in france",
          "term": "writings",
          "tfidf": 0.5
         },
         {
          "book": "home (chic simple)",
          "term": "maria",
          "tfidf": 0.6460092919443186
         },
         {
          "book": "home (chic simple)",
          "term": "text",
          "tfidf": 0.5661508849443176
         },
         {
          "book": "home (chic simple)",
          "term": "photographs",
          "tfidf": 0.5120011427705666
         },
         {
          "book": "horary astrology: plain & simple: fast & accurate answers to real world questions",
          "term": "guide",
          "tfidf": 0.5339236074313922
         },
         {
          "book": "horary astrology: plain & simple: fast & accurate answers to real world questions",
          "term": "astrologer",
          "tfidf": 0.4967922493043959
         },
         {
          "book": "horary astrology: plain & simple: fast & accurate answers to real world questions",
          "term": "astrology",
          "tfidf": 0.4967922493043959
         },
         {
          "book": "horary astrology: plain & simple: fast & accurate answers to real world questions",
          "term": "astrological",
          "tfidf": 0.47044713145007744
         },
         {
          "book": "horrible harry and the ant invasion (horrible harry #3)",
          "term": "library",
          "tfidf": 0.5320256923727327
         },
         {
          "book": "horrible harry and the ant invasion (horrible harry #3)",
          "term": "harrys",
          "tfidf": 0.5116634703027398
         },
         {
          "book": "horrible harry and the ant invasion (horrible harry #3)",
          "term": "mackle",
          "tfidf": 0.5116634703027398
         },
         {
          "book": "horrible harry and the ant invasion (horrible harry #3)",
          "term": "harry",
          "tfidf": 0.4397154181636449
         },
         {
          "book": "horrible harry and the christmas surprise",
          "term": "christmas",
          "tfidf": 0.5264609723875637
         },
         {
          "book": "horrible harry and the christmas surprise",
          "term": "room",
          "tfidf": 0.5264609723875637
         },
         {
          "book": "horrible harry and the christmas surprise",
          "term": "mackle",
          "tfidf": 0.5063117288742831
         },
         {
          "book": "horrible harry and the christmas surprise",
          "term": "harry",
          "tfidf": 0.4351162170154269
         },
         {
          "book": "horrible harry takes the cake (horrible harry #19)",
          "term": "mackle",
          "tfidf": 0.611467377161559
         },
         {
          "book": "horrible harry takes the cake (horrible harry #19)",
          "term": "detective",
          "tfidf": 0.5915850265021904
         },
         {
          "book": "horrible harry takes the cake (horrible harry #19)",
          "term": "harry",
          "tfidf": 0.5254853024448604
         },
         {
          "book": "horrible harry's secret",
          "term": "doug",
          "tfidf": 0.6192206630486075
         },
         {
          "book": "horrible harry's secret",
          "term": "harrys",
          "tfidf": 0.5955212274159194
         },
         {
          "book": "horrible harry's secret",
          "term": "harry",
          "tfidf": 0.5117814359183809
         },
         {
          "book": "how to spin gold: a woman's tale",
          "term": "goddess",
          "tfidf": 0.6251937500122526
         },
         {
          "book": "how to spin gold: a woman's tale",
          "term": "tale",
          "tfidf": 0.5651852446990341
         },
         {
          "book": "how to spin gold: a woman's tale",
          "term": "novels",
          "tfidf": 0.5382363924151821
         },
         {
          "book": "introduction to spanish translation",
          "term": "language",
          "tfidf": 0.5773502691896257
         },
         {
          "book": "introduction to spanish translation",
          "term": "spanish",
          "tfidf": 0.5773502691896257
         },
         {
          "book": "introduction to spanish translation",
          "term": "translation",
          "tfidf": 0.5773502691896257
         },
         {
          "book": "james merrill and w.h. auden: homosexuality and poetic influence",
          "term": "poet",
          "tfidf": 0.6071384029822811
         },
         {
          "book": "james merrill and w.h. auden: homosexuality and poetic influence",
          "term": "poets",
          "tfidf": 0.5781891632572841
         },
         {
          "book": "james merrill and w.h. auden: homosexuality and poetic influence",
          "term": "poetry",
          "tfidf": 0.5450506867402027
         },
         {
          "book": "joy lasts: on the spiritual in art",
          "term": "painting",
          "tfidf": 0.5264680814903211
         },
         {
          "book": "joy lasts: on the spiritual in art",
          "term": "artists",
          "tfidf": 0.506318565890314
         },
         {
          "book": "joy lasts: on the spiritual in art",
          "term": "spiritual",
          "tfidf": 0.4898552128998239
         },
         {
          "book": "joy lasts: on the spiritual in art",
          "term": "art",
          "tfidf": 0.4759356462816634
         },
         {
          "book": "packing: bags to trunks (chic simple components) (chic simple components)",
          "term": "wojcik",
          "tfidf": 0.6317095623598128
         },
         {
          "book": "packing: bags to trunks (chic simple components) (chic simple components)",
          "term": "james",
          "tfidf": 0.6075321390193311
         },
         {
          "book": "packing: bags to trunks (chic simple components) (chic simple components)",
          "term": "photographs",
          "tfidf": 0.48150568935555677
         },
         {
          "book": "peter pan and wendy",
          "term": "peter",
          "tfidf": 0.603883671833465
         },
         {
          "book": "peter pan and wendy",
          "term": "reading",
          "tfidf": 0.580771228944709
         },
         {
          "book": "peter pan and wendy",
          "term": "tale",
          "tfidf": 0.5459205899423326
         },
         {
          "book": "scents (chic simple)",
          "term": "maria",
          "tfidf": 0.6460092919443186
         },
         {
          "book": "scents (chic simple)",
          "term": "text",
          "tfidf": 0.5661508849443176
         },
         {
          "book": "scents (chic simple)",
          "term": "photographs",
          "tfidf": 0.5120011427705666
         },
         {
          "book": "scribners best of the fiction workshops 1997",
          "term": "writing",
          "tfidf": 0.6014375475007766
         },
         {
          "book": "scribners best of the fiction workshops 1997",
          "term": "literary",
          "tfidf": 0.5843472935060474
         },
         {
          "book": "scribners best of the fiction workshops 1997",
          "term": "fiction",
          "tfidf": 0.5448037417533108
         },
         {
          "book": "select works of edmund burke: reflections on the revolution in france",
          "term": "burke",
          "tfidf": 0.5
         },
         {
          "book": "select works of edmund burke: reflections on the revolution in france",
          "term": "essays",
          "tfidf": 0.5
         },
         {
          "book": "select works of edmund burke: reflections on the revolution in france",
          "term": "revolution",
          "tfidf": 0.5
         },
         {
          "book": "select works of edmund burke: reflections on the revolution in france",
          "term": "revolutionary",
          "tfidf": 0.5
         },
         {
          "book": "selected poems and translations: 1969-1991",
          "term": "poet",
          "tfidf": 0.5225074709226573
         },
         {
          "book": "selected poems and translations: 1969-1991",
          "term": "poems",
          "tfidf": 0.5092699116166318
         },
         {
          "book": "selected poems and translations: 1969-1991",
          "term": "poets",
          "tfidf": 0.4975935567977369
         },
         {
          "book": "selected poems and translations: 1969-1991",
          "term": "poetry",
          "tfidf": 0.4690743567765922
         },
         {
          "book": "selected poems: walt whitman",
          "term": "poet",
          "tfidf": 0.5225074709226573
         },
         {
          "book": "selected poems: walt whitman",
          "term": "poems",
          "tfidf": 0.5092699116166318
         },
         {
          "book": "selected poems: walt whitman",
          "term": "poets",
          "tfidf": 0.4975935567977369
         },
         {
          "book": "selected poems: walt whitman",
          "term": "poetry",
          "tfidf": 0.4690743567765922
         },
         {
          "book": "solar arcs: astrology's most successful predictive system",
          "term": "solar",
          "tfidf": 0.5339236074313922
         },
         {
          "book": "solar arcs: astrology's most successful predictive system",
          "term": "astrologer",
          "tfidf": 0.4967922493043959
         },
         {
          "book": "solar arcs: astrology's most successful predictive system",
          "term": "astrology",
          "tfidf": 0.4967922493043959
         },
         {
          "book": "solar arcs: astrology's most successful predictive system",
          "term": "astrological",
          "tfidf": 0.47044713145007744
         },
         {
          "book": "sports astrology",
          "term": "astrologer",
          "tfidf": 0.5875494079207697
         },
         {
          "book": "sports astrology",
          "term": "astrology",
          "tfidf": 0.5875494079207697
         },
         {
          "book": "sports astrology",
          "term": "astrological",
          "tfidf": 0.5563913968636701
         },
         {
          "book": "stepping stones of the steward: a faith journey through jesus' parables",
          "term": "christian",
          "tfidf": 0.5847134610241586
         },
         {
          "book": "stepping stones of the steward: a faith journey through jesus' parables",
          "term": "faith",
          "tfidf": 0.5847134610241586
         },
         {
          "book": "stepping stones of the steward: a faith journey through jesus' parables",
          "term": "church",
          "tfidf": 0.5623347197126456
         },
         {
          "book": "synthesis & counseling in astrology: the professional manual",
          "term": "solar",
          "tfidf": 0.6084364977767555
         },
         {
          "book": "synthesis & counseling in astrology: the professional manual",
          "term": "astrologers",
          "tfidf": 0.5851498045571745
         },
         {
          "book": "synthesis & counseling in astrology: the professional manual",
          "term": "astrological",
          "tfidf": 0.5361014217476546
         },
         {
          "book": "the absolute bourgeois: artists & politics in france, 1848-1851 (cloth)",
          "term": "painting",
          "tfidf": 0.5300429235652394
         },
         {
          "book": "the absolute bourgeois: artists & politics in france, 1848-1851 (cloth)",
          "term": "artists",
          "tfidf": 0.509756588016049
         },
         {
          "book": "the absolute bourgeois: artists & politics in france, 1848-1851 (cloth)",
          "term": "art",
          "tfidf": 0.47916736123856035
         },
         {
          "book": "the absolute bourgeois: artists & politics in france, 1848-1851 (cloth)",
          "term": "poet",
          "tfidf": 0.47916736123856035
         },
         {
          "book": "the absolute bourgeois: artists & politics in france, 1848-1851 (paper): artists and politics in france, 1848-1851",
          "term": "painting",
          "tfidf": 0.5300429235652394
         },
         {
          "book": "the absolute bourgeois: artists & politics in france, 1848-1851 (paper): artists and politics in france, 1848-1851",
          "term": "artists",
          "tfidf": 0.509756588016049
         },
         {
          "book": "the absolute bourgeois: artists & politics in france, 1848-1851 (paper): artists and politics in france, 1848-1851",
          "term": "art",
          "tfidf": 0.47916736123856035
         },
         {
          "book": "the absolute bourgeois: artists & politics in france, 1848-1851 (paper): artists and politics in france, 1848-1851",
          "term": "poet",
          "tfidf": 0.47916736123856035
         },
         {
          "book": "the earth strikes back",
          "term": "authors",
          "tfidf": 0.5407636446919255
         },
         {
          "book": "the earth strikes back",
          "term": "tales",
          "tfidf": 0.5083137614547484
         },
         {
          "book": "the earth strikes back",
          "term": "fiction",
          "tfidf": 0.473915499058234
         },
         {
          "book": "the earth strikes back",
          "term": "writers",
          "tfidf": 0.473915499058234
         },
         {
          "book": "the horary textbook",
          "term": "astrologers",
          "tfidf": 0.5900704948806397
         },
         {
          "book": "the horary textbook",
          "term": "astrologer",
          "tfidf": 0.5708838809562401
         },
         {
          "book": "the horary textbook",
          "term": "astrology",
          "tfidf": 0.5708838809562401
         },
         {
          "book": "the language of recovery: a blue mountain arts collection (\"language of ... \" series)",
          "term": "authors",
          "tfidf": 0.529366965569397
         },
         {
          "book": "the language of recovery: a blue mountain arts collection (\"language of ... \" series)",
          "term": "books",
          "tfidf": 0.49760096874072335
         },
         {
          "book": "the language of recovery: a blue mountain arts collection (\"language of ... \" series)",
          "term": "poet",
          "tfidf": 0.49760096874072335
         },
         {
          "book": "the language of recovery: a blue mountain arts collection (\"language of ... \" series)",
          "term": "poets",
          "tfidf": 0.4738746327673979
         },
         {
          "book": "the psalms: new catholic version",
          "term": "translation",
          "tfidf": 0.5923657526079225
         },
         {
          "book": "the psalms: new catholic version",
          "term": "church",
          "tfidf": 0.5696941351011302
         },
         {
          "book": "the psalms: new catholic version",
          "term": "testament",
          "tfidf": 0.5696941351011302
         },
         {
          "book": "the triple thinkers",
          "term": "essays",
          "tfidf": 0.4766875269675994
         },
         {
          "book": "the triple thinkers",
          "term": "writings",
          "tfidf": 0.4766875269675994
         },
         {
          "book": "the triple thinkers",
          "term": "authors",
          "tfidf": 0.4584432627877603
         },
         {
          "book": "the triple thinkers",
          "term": "literary",
          "tfidf": 0.4309332212116324
         },
         {
          "book": "the triple thinkers",
          "term": "poetry",
          "tfidf": 0.3868647527595497
         },
         {
          "book": "the world of the short story: a twentieth century collection",
          "term": "literary",
          "tfidf": 0.6042904424253283
         },
         {
          "book": "the world of the short story: a twentieth century collection",
          "term": "stories",
          "tfidf": 0.5633973114922546
         },
         {
          "book": "the world of the short story: a twentieth century collection",
          "term": "writers",
          "tfidf": 0.5633973114922546
         },
         {
          "book": "tools (chic simple) (chic simple components)",
          "term": "wojcik",
          "tfidf": 0.5575997536838396
         },
         {
          "book": "tools (chic simple) (chic simple components)",
          "term": "james",
          "tfidf": 0.5362587354332978
         },
         {
          "book": "tools (chic simple) (chic simple components)",
          "term": "text",
          "tfidf": 0.4699674778839725
         },
         {
          "book": "tools (chic simple) (chic simple components)",
          "term": "photographs",
          "tfidf": 0.425017238585189
         },
         {
          "book": "wild galaxy: selected science fiction stories",
          "term": "writing",
          "tfidf": 0.5281437867710256
         },
         {
          "book": "wild galaxy: selected science fiction stories",
          "term": "tales",
          "tfidf": 0.5131362244743879
         },
         {
          "book": "wild galaxy: selected science fiction stories",
          "term": "fiction",
          "tfidf": 0.4784116196474182
         },
         {
          "book": "wild galaxy: selected science fiction stories",
          "term": "stories",
          "tfidf": 0.4784116196474182
         }
        ]
       },
       "layer": [
        {
         "encoding": {
          "color": {
           "field": "tfidf",
           "scale": {
            "scheme": "redpurple"
           },
           "type": "quantitative"
          },
          "x": {
           "field": "rank",
           "type": "ordinal"
          },
          "y": {
           "field": "book",
           "type": "nominal"
          }
         },
         "mark": {
          "size": 5,
          "type": "rect"
         },
         "transform": [
          {
           "groupby": [
            "book"
           ],
           "sort": [
            {
             "field": "tfidf",
             "order": "descending"
            }
           ],
           "window": [
            {
             "as": "rank",
             "field": "",
             "op": "dense_rank"
            }
           ]
          }
         ]
        },
        {
         "encoding": {
          "color": {
           "condition": {
            "test": "(datum.tfidf >= 0.23)",
            "value": "white"
           },
           "value": "black"
          },
          "text": {
           "field": "term",
           "type": "nominal"
          },
          "x": {
           "field": "rank",
           "type": "ordinal"
          },
          "y": {
           "field": "book",
           "type": "nominal"
          }
         },
         "mark": {
          "align": "center",
          "baseline": "middle",
          "lineBreak": "",
          "type": "text"
         },
         "transform": [
          {
           "groupby": [
            "book"
           ],
           "sort": [
            {
             "field": "tfidf",
             "order": "descending"
            }
           ],
           "window": [
            {
             "as": "rank",
             "field": "",
             "op": "dense_rank"
            }
           ]
          }
         ]
        }
       ],
       "width": 800
      },
      "text/plain": [
       "<VegaLite 5 object>\n",
       "\n",
       "If you see this message, it means the renderer has not been properly enabled\n",
       "for the frontend that you are using. For more information, see\n",
       "https://altair-viz.github.io/user_guide/display_frontends.html#troubleshooting\n"
      ]
     },
     "execution_count": 122,
     "metadata": {},
     "output_type": "execute_result"
    }
   ],
   "source": [
    "import altair as alt\n",
    "alt.renderers.enable('mimetype')\n",
    "grid = alt.Chart(tfidf_vec).encode(\n",
    "    x = 'rank:O',\n",
    "    y = 'book:N'\n",
    ").transform_window(\n",
    "    rank = \"dense_rank()\",\n",
    "    sort = [alt.SortField(\"tfidf\", order=\"descending\")],\n",
    "    groupby = [\"book\"],\n",
    ")\n",
    "heatmap = grid.mark_rect(size=5).encode(\n",
    "    alt.Color('tfidf:Q', scale=alt.Scale(scheme='redpurple'))\n",
    ")\n",
    "text = grid.mark_text(align='center', baseline='middle', lineBreak='').encode(\n",
    "    text = 'term:N',\n",
    "    color = alt.condition(alt.datum.tfidf >= 0.23, alt.value('white'), alt.value('black'))\n",
    ")\n",
    "(heatmap+text).properties(width = 800)"
   ]
  },
  {
   "cell_type": "markdown",
   "id": "a5459cfe-67f7-4e78-9035-19bb2e852625",
   "metadata": {},
   "source": [
    "---\n",
    "### Cosine Similarity between books vector representation"
   ]
  },
  {
   "cell_type": "code",
   "execution_count": 123,
   "id": "dd262636-e4ce-49a8-9a25-92ca88a62e57",
   "metadata": {},
   "outputs": [],
   "source": [
    "from sklearn.metrics.pairwise import cosine_similarity\n",
    "book_cosine_sim = cosine_similarity(tfidf_encoding, tfidf_encoding)"
   ]
  },
  {
   "cell_type": "code",
   "execution_count": 124,
   "id": "5b4dea6f-9426-46b7-88a9-c533cc0a41f0",
   "metadata": {},
   "outputs": [
    {
     "data": {
      "text/plain": [
       "array([[0., 0., 0., ..., 0., 0., 0.],\n",
       "       [0., 0., 0., ..., 0., 0., 0.],\n",
       "       [0., 0., 1., ..., 0., 0., 0.],\n",
       "       ...,\n",
       "       [0., 0., 0., ..., 0., 0., 0.],\n",
       "       [0., 0., 0., ..., 0., 0., 0.],\n",
       "       [0., 0., 0., ..., 0., 0., 0.]])"
      ]
     },
     "execution_count": 124,
     "metadata": {},
     "output_type": "execute_result"
    }
   ],
   "source": [
    "# Preview Similarity Matrix\n",
    "book_cosine_sim"
   ]
  },
  {
   "cell_type": "code",
   "execution_count": 125,
   "id": "4ad73b3e-29f4-4967-8067-c1ee78242acb",
   "metadata": {},
   "outputs": [
    {
     "data": {
      "image/png": "[encoded data removed]",
      "text/plain": [
       "<Figure size 480x480 with 1 Axes>"
      ]
     },
     "metadata": {},
     "output_type": "display_data"
    }
   ],
   "source": [
    "# Vidualize similarity between books\n",
    "import matplotlib.pyplot as plt\n",
    "\n",
    "plt.figure(figsize=(6, 6), dpi=80)\n",
    "plt.spy(book_cosine_sim, precision = 0.1, markersize = 0.04)\n",
    "plt.tight_layout()\n",
    "plt.show()\n"
   ]
  },
  {
   "cell_type": "markdown",
   "id": "6fa19c9b-539f-43eb-850d-8675f3ef3f27",
   "metadata": {},
   "source": [
    "---\n",
    "### Recommendation\n",
    "- Given a book name, find top n similar books based on cosine similarity score.\n",
    "1) Series Information\n",
    "2) Other Books In Numbered Series\n",
    "3) Theme\n",
    "4) Author"
   ]
  },
  {
   "cell_type": "code",
   "execution_count": 126,
   "id": "204166ab-9586-4837-abf8-d590cfc3e496",
   "metadata": {},
   "outputs": [],
   "source": [
    "books = pd.Series(model_data['Name'])\n",
    "\n",
    "def recommend_books_similar_to(book_name, n=5, cosine_sim_mat=book_cosine_sim):\n",
    "    # get index of the imput book\n",
    "    input_idx = books[books == book_name].index[0]   \n",
    "    # Find top n similar books with decreasing order of similarity score\n",
    "    top_n_books_idx = list(pd.Series(cosine_sim_mat[input_idx]).sort_values(ascending = False).iloc[1:n+1].index)\n",
    "    # [1:6] to exclude 0 (index 0 is the input movie itself)\n",
    "    \n",
    "    books_list = list(books)\n",
    "    recommended_books = [books[i] for i in top_n_books_idx]\n",
    "        \n",
    "    return recommended_books"
   ]
  },
  {
   "cell_type": "code",
   "execution_count": 127,
   "id": "66fe214e",
   "metadata": {},
   "outputs": [],
   "source": [
    "def recommend_bookIDs_similar_to(book_name, n=5, cosine_sim_mat=book_cosine_sim):\n",
    "    # Get index of the input book\n",
    "    input_idx = books[books == book_name].index[0]   \n",
    "    \n",
    "    # Find top n similar books with decreasing order of similarity score\n",
    "    top_n_books_idx = list(pd.Series(cosine_sim_mat[input_idx]).sort_values(ascending=False).iloc[1:n+1].index)\n",
    "    \n",
    "    # Get the ID of the input book\n",
    "    input_book_id = model_data['Id'].iloc[input_idx]\n",
    "    \n",
    "    # Create a list of recommended book IDs\n",
    "    recommended_ids = model_data['Id'].iloc[top_n_books_idx].tolist()\n",
    "    \n",
    "    # Return the input book ID plus the list of recommended IDs\n",
    "    return input_book_id, recommended_ids"
   ]
  },
  {
   "cell_type": "code",
   "execution_count": 128,
   "id": "a3711ced-7743-4204-ae17-bbe3c4123a9e",
   "metadata": {},
   "outputs": [
    {
     "name": "stdout",
     "output_type": "stream",
     "text": [
      "\u001b[1mRecommendation (Series Information) based on the read: baby's little engine that could)\u001b[0m\n"
     ]
    },
    {
     "data": {
      "text/plain": [
       "['4 play: trainspotting, ecstasy, filth and marabou stork nightmares',\n",
       " 'calling all cooks two',\n",
       " \"cliffsnotes on rand's atlas shrugged\",\n",
       " 'the wonderful thing about hiccups',\n",
       " 'the language of recovery: a blue mountain arts collection (\"language of ... \" series)']"
      ]
     },
     "metadata": {},
     "output_type": "display_data"
    }
   ],
   "source": [
    "# Recommendations with series information\n",
    "print(\"\\033[1m{}\\033[0m\".format(\"Recommendation (Series Information) based on the read: baby's little engine that could)\"))\n",
    "display(recommend_books_similar_to(\"baby's little engine that could\", 5))\n"
   ]
  },
  {
   "cell_type": "code",
   "execution_count": 129,
   "id": "8762ef5a",
   "metadata": {},
   "outputs": [
    {
     "name": "stdout",
     "output_type": "stream",
     "text": [
      "\u001b[1mRecommendation (Series Information) based on the read: baby's little engine that could)\u001b[0m\n"
     ]
    },
    {
     "data": {
      "text/plain": [
       "(1100074, [1100552, 1100724, 1100101, 1100230, 1100412])"
      ]
     },
     "metadata": {},
     "output_type": "display_data"
    }
   ],
   "source": [
    "# Recommendations with series information\n",
    "print(\"\\033[1m{}\\033[0m\".format(\"Recommendation (Series Information) based on the read: baby's little engine that could)\"))\n",
    "display(recommend_bookIDs_similar_to(\"baby's little engine that could\", 5))\n"
   ]
  },
  {
   "cell_type": "code",
   "execution_count": 130,
   "id": "74428c47",
   "metadata": {},
   "outputs": [
    {
     "name": "stdout",
     "output_type": "stream",
     "text": [
      "\u001b[1mRecommendation (Series Information) based on the read: bright hunger)\u001b[0m\n"
     ]
    },
    {
     "data": {
      "text/plain": [
       "['even as we speak: new essays, 1993-2000',\n",
       " 'the columbus myth: did men of bristol reach america before columbus',\n",
       " 'norton anthology of world masterpieces',\n",
       " 'writing magic: creating stories that fly',\n",
       " 'the triple thinkers']"
      ]
     },
     "metadata": {},
     "output_type": "display_data"
    }
   ],
   "source": [
    "# Recommendations with series information\n",
    "print(\"\\033[1m{}\\033[0m\".format(\"Recommendation (Series Information) based on the read: bright hunger)\"))\n",
    "display(recommend_books_similar_to(\"bright hunger\", 5))\n"
   ]
  },
  {
   "cell_type": "code",
   "execution_count": 131,
   "id": "ec26717f",
   "metadata": {},
   "outputs": [
    {
     "name": "stdout",
     "output_type": "stream",
     "text": [
      "Updated DataFrame with recommended IDs saved to data/keywords.csv\n"
     ]
    }
   ],
   "source": [
    "# Initialize a new column for recommended IDs\n",
    "model_data['recommended_ids'] = None\n",
    "\n",
    "\n",
    "\n",
    "# Iterate over each row in model_data\n",
    "for index, row in model_data.iterrows():\n",
    "    book_name = row['Name']\n",
    "    _, recommended_ids = recommend_bookIDs_similar_to(book_name)  # Get recommended IDs\n",
    "    model_data.at[index, 'recommended_ids'] = recommended_ids  # Update the DataFrame\n",
    "\n",
    "# Optionally save the updated DataFrame to a new CSV file\n",
    "model_data.to_csv(\"data/keywords.csv\", index=False)\n",
    "print(\"Updated DataFrame with recommended IDs saved to data/keywords.csv\")"
   ]
  }
 ],
 "metadata": {
  "kernelspec": {
   "display_name": "Python 3",
   "language": "python",
   "name": "python3"
  },
  "language_info": {
   "codemirror_mode": {
    "name": "ipython",
    "version": 3
   },
   "file_extension": ".py",
   "mimetype": "text/x-python",
   "name": "python",
   "nbconvert_exporter": "python",
   "pygments_lexer": "ipython3",
   "version": "3.11.10"
  }
 },
 "nbformat": 4,
 "nbformat_minor": 5
}
